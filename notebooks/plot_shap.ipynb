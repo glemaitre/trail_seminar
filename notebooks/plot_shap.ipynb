{
 "cells": [
  {
   "cell_type": "markdown",
   "id": "f7991522",
   "metadata": {},
   "source": [
    "\n",
    "# Exploring the SHAP library\n",
    "\n",
    "## Loading the dataset and defining the predictive model"
   ]
  },
  {
   "cell_type": "code",
   "execution_count": null,
   "id": "3acb9d8d",
   "metadata": {},
   "outputs": [],
   "source": [
    "import seaborn as sns\n",
    "sns.set_context(\"poster\")"
   ]
  },
  {
   "cell_type": "code",
   "execution_count": null,
   "id": "0e886115",
   "metadata": {},
   "outputs": [],
   "source": [
    "from sklearn.datasets import fetch_openml\n",
    "\n",
    "survey = fetch_openml(data_id=534, as_frame=True)\n",
    "survey.frame.head()"
   ]
  },
  {
   "cell_type": "code",
   "execution_count": null,
   "id": "d0956d6b",
   "metadata": {},
   "outputs": [],
   "source": [
    "from sklearn.model_selection import train_test_split\n",
    "\n",
    "X_train, X_test, y_train, y_test = train_test_split(\n",
    "    survey.data, survey.target, random_state=0\n",
    ")"
   ]
  },
  {
   "cell_type": "code",
   "execution_count": null,
   "id": "f9aaf76a",
   "metadata": {
    "lines_to_next_cell": 0
   },
   "outputs": [],
   "source": [
    "from sklearn.preprocessing import OrdinalEncoder\n",
    "from sklearn.compose import make_column_selector, make_column_transformer\n",
    "\n",
    "categorical_columns = make_column_selector(dtype_include=\"category\")\n",
    "numerical_columns = make_column_selector(dtype_exclude=\"category\")\n",
    "preprocessor = make_column_transformer(\n",
    "    (\n",
    "        OrdinalEncoder(\n",
    "            handle_unknown=\"use_encoded_value\",\n",
    "            unknown_value=-1,\n",
    "        ),\n",
    "        categorical_columns,\n",
    "    ),\n",
    "    remainder=\"passthrough\",\n",
    "    verbose_feature_names_out=False,\n",
    ")"
   ]
  },
  {
   "cell_type": "code",
   "execution_count": null,
   "id": "19618526",
   "metadata": {},
   "outputs": [],
   "source": [
    "from sklearn.pipeline import make_pipeline\n",
    "from sklearn.ensemble import HistGradientBoostingRegressor\n",
    "\n",
    "model = make_pipeline(\n",
    "    preprocessor,\n",
    "    HistGradientBoostingRegressor(max_iter=10_000, early_stopping=True, random_state=0),\n",
    ")\n",
    "model.fit(X_train, y_train)"
   ]
  },
  {
   "cell_type": "code",
   "execution_count": null,
   "id": "9ecd4c19",
   "metadata": {},
   "outputs": [],
   "source": [
    "from sklearn.metrics import mean_absolute_error\n",
    "\n",
    "print(\n",
    "    f\"MAE on the training set: \"\n",
    "    f\"{mean_absolute_error(y_train, model.predict(X_train)):.3f} $/hour\"\n",
    ")\n",
    "print(\n",
    "    f\"MAE on the training set: \"\n",
    "    f\"{mean_absolute_error(y_test, model.predict(X_test)):.3f} $/hour\"\n",
    ")"
   ]
  },
  {
   "cell_type": "markdown",
   "id": "28a334e0",
   "metadata": {},
   "source": [
    "\n",
    "## What SHAP values means?"
   ]
  },
  {
   "cell_type": "code",
   "execution_count": null,
   "id": "68d8920c",
   "metadata": {},
   "outputs": [],
   "source": [
    "import pandas as pd\n",
    "\n",
    "feature_names = categorical_columns(X_train) + numerical_columns(X_train)\n",
    "X_train_preprocessed = pd.DataFrame(\n",
    "    preprocessor.fit_transform(X_train), columns=feature_names\n",
    ")\n",
    "X_test_preprocessed = pd.DataFrame(\n",
    "    preprocessor.transform(X_test), columns=feature_names\n",
    ")"
   ]
  },
  {
   "cell_type": "code",
   "execution_count": null,
   "id": "f9608c5d",
   "metadata": {},
   "outputs": [],
   "source": [
    "import shap\n",
    "\n",
    "explainer = shap.Explainer(\n",
    "    model[-1], masker=X_train_preprocessed, feature_perturbation=\"interventional\"\n",
    ")\n",
    "shap_values = explainer(X_test_preprocessed)\n",
    "shap_values"
   ]
  },
  {
   "cell_type": "markdown",
   "id": "eed10721",
   "metadata": {},
   "source": [
    "\n",
    "## Explain model's prediction vs. mean prediction"
   ]
  },
  {
   "cell_type": "code",
   "execution_count": null,
   "id": "c3213ebf",
   "metadata": {},
   "outputs": [],
   "source": [
    "model.predict(X_test.iloc[[0]])"
   ]
  },
  {
   "cell_type": "markdown",
   "id": "c6bb3107",
   "metadata": {},
   "source": [
    "\n",
    "The reported SHAP values for the different features are:"
   ]
  },
  {
   "cell_type": "code",
   "execution_count": null,
   "id": "590e32b1",
   "metadata": {},
   "outputs": [],
   "source": [
    "pd.Series(shap_values[0].values, index=feature_names)"
   ]
  },
  {
   "cell_type": "markdown",
   "id": "b82d5e2b",
   "metadata": {},
   "source": [
    "\n",
    "Taking into account the base value, then the model prediction corresponds to\n",
    "the following sum:"
   ]
  },
  {
   "cell_type": "code",
   "execution_count": null,
   "id": "24566617",
   "metadata": {},
   "outputs": [],
   "source": [
    "shap_values[0].values.sum() + shap_values.base_values[0]"
   ]
  },
  {
   "cell_type": "markdown",
   "id": "bccdef95",
   "metadata": {},
   "source": [
    "\n",
    "## SHAP as a debugging visualization tool\n",
    "\n",
    "SHAP package comes with handy plotting facilities to visualize the Shapley\n",
    "values."
   ]
  },
  {
   "cell_type": "code",
   "execution_count": null,
   "id": "0c15a750",
   "metadata": {},
   "outputs": [],
   "source": [
    "shap.plots.waterfall(shap_values[0])"
   ]
  },
  {
   "cell_type": "code",
   "execution_count": null,
   "id": "79f66824",
   "metadata": {},
   "outputs": [],
   "source": [
    "shap.initjs()\n",
    "shap.plots.force(\n",
    "    shap_values.base_values[0],\n",
    "    shap_values.values[0],\n",
    "    feature_names=feature_names,\n",
    ")"
   ]
  },
  {
   "cell_type": "code",
   "execution_count": null,
   "id": "437943af",
   "metadata": {},
   "outputs": [],
   "source": [
    "shap.plots.beeswarm(shap_values)"
   ]
  },
  {
   "cell_type": "markdown",
   "id": "e10e2a30",
   "metadata": {},
   "source": [
    "\n",
    "## Global explanation by averaging local explanations"
   ]
  },
  {
   "cell_type": "code",
   "execution_count": null,
   "id": "8be3ea57",
   "metadata": {},
   "outputs": [],
   "source": [
    "shap.plots.bar(shap_values)"
   ]
  },
  {
   "cell_type": "code",
   "execution_count": null,
   "id": "1f6ac3de",
   "metadata": {},
   "outputs": [],
   "source": [
    "import matplotlib.pyplot as plt\n",
    "from sklearn.inspection import permutation_importance\n",
    "\n",
    "importances = permutation_importance(model, X_test, y_test, n_jobs=-1)\n",
    "sorted_idx = importances.importances_mean.argsort()\n",
    "\n",
    "importances = pd.DataFrame(\n",
    "    importances.importances[sorted_idx].T, columns=X_test.columns[sorted_idx]\n",
    ")\n",
    "importances.plot.box(vert=False, whis=100, figsize=(8, 6))\n",
    "plt.axvline(0, color=\"k\", linestyle=\"--\")\n",
    "plt.xlabel(\"Decrease in R2 score\")\n",
    "_ = plt.title(\"Permutation importances\")"
   ]
  },
  {
   "cell_type": "markdown",
   "id": "cddccff7",
   "metadata": {},
   "source": [
    "\n",
    "We can make use of bootstrap resampling of the test set in order to repeat\n",
    "the experiment with a variation of the test dataset."
   ]
  },
  {
   "cell_type": "code",
   "execution_count": null,
   "id": "073a8e1b",
   "metadata": {},
   "outputs": [],
   "source": [
    "import numpy as np\n",
    "\n",
    "rng = np.random.default_rng(42)\n",
    "n_bootstrap = 25\n",
    "\n",
    "all_shap_values = []\n",
    "for _ in range(n_bootstrap):\n",
    "    bootstrap_idx = rng.choice(\n",
    "        np.arange(X_test.shape[0]), size=X_test.shape[0], replace=True\n",
    "    )\n",
    "    X_test_bootstrap = X_test.iloc[bootstrap_idx]\n",
    "    X_test_preprocessed = pd.DataFrame(\n",
    "        preprocessor.transform(X_test_bootstrap), columns=feature_names\n",
    "    )\n",
    "    all_shap_values.append(explainer(X_test_preprocessed))"
   ]
  },
  {
   "cell_type": "code",
   "execution_count": null,
   "id": "29a2a820",
   "metadata": {},
   "outputs": [],
   "source": [
    "shap_values = pd.DataFrame(\n",
    "    [np.abs(shap_values.values).mean(axis=0) for shap_values in all_shap_values],\n",
    "    columns=feature_names,\n",
    ")\n",
    "sorted_idx = shap_values.mean().sort_values().index"
   ]
  },
  {
   "cell_type": "code",
   "execution_count": null,
   "id": "55c8f707",
   "metadata": {},
   "outputs": [],
   "source": [
    "shap_values[sorted_idx].plot.box(vert=False, whis=10, figsize=(8, 6))\n",
    "plt.xlabel(\"mean(|SHAP values|)\")\n",
    "_ = plt.title(\"SHAP values\")"
   ]
  },
  {
   "cell_type": "markdown",
   "id": "a16b10a8",
   "metadata": {},
   "source": [
    "\n",
    "## Be aware of some pitfalls regarding SHAP\n",
    "\n",
    "Pitfalls can come from:\n",
    "\n",
    "- some issues with the library\n",
    "- some limitations due to theoretical assumptions"
   ]
  },
  {
   "cell_type": "code",
   "execution_count": null,
   "id": "e5624e0f",
   "metadata": {},
   "outputs": [],
   "source": [
    "explainer"
   ]
  },
  {
   "cell_type": "code",
   "execution_count": null,
   "id": "ff106e15",
   "metadata": {},
   "outputs": [],
   "source": [
    "explainer.feature_perturbation"
   ]
  },
  {
   "cell_type": "code",
   "execution_count": null,
   "id": "94204cdd",
   "metadata": {},
   "outputs": [],
   "source": [
    "explainer = shap.Explainer(model[-1])\n",
    "explainer(X_test_preprocessed)"
   ]
  },
  {
   "cell_type": "code",
   "execution_count": null,
   "id": "3fac797a",
   "metadata": {},
   "outputs": [],
   "source": [
    "explainer.feature_perturbation"
   ]
  },
  {
   "cell_type": "code",
   "execution_count": null,
   "id": "ca768526",
   "metadata": {},
   "outputs": [],
   "source": [
    "explainer = shap.Explainer(model[-1], feature_perturbation=\"interventional\")\n",
    "explainer(X_test_preprocessed)"
   ]
  },
  {
   "cell_type": "code",
   "execution_count": null,
   "id": "3f4d5ecc",
   "metadata": {},
   "outputs": [],
   "source": [
    "explainer.feature_perturbation"
   ]
  },
  {
   "cell_type": "code",
   "execution_count": null,
   "id": "2cc09dc2",
   "metadata": {},
   "outputs": [],
   "source": [
    "X = np.concatenate([\n",
    "    [[0, 0]] * 400,\n",
    "    [[0, 1]] * 100,\n",
    "    [[1, 0]] * 100,\n",
    "    [[1, 1]] * 400\n",
    "], axis=0)\n",
    "X"
   ]
  },
  {
   "cell_type": "code",
   "execution_count": null,
   "id": "66796bf8",
   "metadata": {},
   "outputs": [],
   "source": [
    "y = np.array(\n",
    "    [0] * 400 + [50] * 100 + [50] * 100 + [100] * 400\n",
    ")"
   ]
  },
  {
   "cell_type": "code",
   "execution_count": null,
   "id": "12061103",
   "metadata": {},
   "outputs": [],
   "source": [
    "from sklearn.tree import DecisionTreeRegressor\n",
    "\n",
    "tree_1 = DecisionTreeRegressor(random_state=0).fit(X, y)"
   ]
  },
  {
   "cell_type": "code",
   "execution_count": null,
   "id": "646eaf01",
   "metadata": {},
   "outputs": [],
   "source": [
    "from sklearn.tree import plot_tree\n",
    "\n",
    "plt.figure(figsize=(10, 6))\n",
    "_ = plot_tree(tree_1)"
   ]
  },
  {
   "cell_type": "code",
   "execution_count": null,
   "id": "c73ec110",
   "metadata": {},
   "outputs": [],
   "source": [
    "tree_2 = DecisionTreeRegressor(random_state=4).fit(X, y)"
   ]
  },
  {
   "cell_type": "code",
   "execution_count": null,
   "id": "7c46ed47",
   "metadata": {},
   "outputs": [],
   "source": [
    "from sklearn.tree import plot_tree\n",
    "\n",
    "plt.figure(figsize=(10, 6))\n",
    "_ = plot_tree(tree_2)"
   ]
  },
  {
   "cell_type": "code",
   "execution_count": null,
   "id": "f04ffe5c",
   "metadata": {},
   "outputs": [],
   "source": [
    "X_test = np.array([[1, 1]])\n",
    "explainer = shap.explainers.Exact(tree_1.predict, X)\n",
    "explainer(X_test)"
   ]
  },
  {
   "cell_type": "code",
   "execution_count": null,
   "id": "d22e1987",
   "metadata": {},
   "outputs": [],
   "source": [
    "explainer = shap.explainers.Exact(\n",
    "    tree_1.predict, masker=shap.maskers.Independent(X, max_samples=X.shape[0])\n",
    ")\n",
    "explainer(X_test)"
   ]
  },
  {
   "cell_type": "code",
   "execution_count": null,
   "id": "069e885f",
   "metadata": {},
   "outputs": [],
   "source": [
    "explainer = shap.explainers.Exact(\n",
    "    tree_2.predict, masker=shap.maskers.Independent(X, max_samples=X.shape[0])\n",
    ")\n",
    "explainer(X_test)"
   ]
  },
  {
   "cell_type": "code",
   "execution_count": null,
   "id": "3df6831d",
   "metadata": {},
   "outputs": [],
   "source": [
    "explainer = shap.Explainer(tree_1)\n",
    "explainer(X_test)"
   ]
  },
  {
   "cell_type": "code",
   "execution_count": null,
   "id": "815acb74",
   "metadata": {},
   "outputs": [],
   "source": [
    "explainer = shap.Explainer(tree_2)\n",
    "explainer(X_test)"
   ]
  },
  {
   "cell_type": "code",
   "execution_count": null,
   "id": "4aab9386",
   "metadata": {},
   "outputs": [],
   "source": [
    "explainer"
   ]
  },
  {
   "cell_type": "code",
   "execution_count": null,
   "id": "87291799",
   "metadata": {},
   "outputs": [],
   "source": [
    "explainer = shap.Explainer(tree_1, shap.maskers.Independent(X, max_samples=X.shape[0]))\n",
    "explainer(X_test)"
   ]
  },
  {
   "cell_type": "code",
   "execution_count": null,
   "id": "f1e23246",
   "metadata": {},
   "outputs": [],
   "source": [
    "explainer = shap.Explainer(tree_2, shap.maskers.Independent(X, max_samples=X.shape[0]))\n",
    "explainer(X_test)"
   ]
  }
 ],
 "metadata": {
  "jupytext": {
   "cell_metadata_filter": "-all",
   "main_language": "python",
   "notebook_metadata_filter": "-all"
  }
 },
 "nbformat": 4,
 "nbformat_minor": 5
}

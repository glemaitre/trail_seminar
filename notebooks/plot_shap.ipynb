{
 "cells": [
  {
   "cell_type": "markdown",
   "id": "711e7fea",
   "metadata": {},
   "source": [
    "\n",
    "# Exploring the SHAP library\n",
    "\n",
    "## Loading the dataset and defining the predictive model"
   ]
  },
  {
   "cell_type": "code",
   "execution_count": null,
   "id": "3271d640",
   "metadata": {},
   "outputs": [],
   "source": [
    "import seaborn as sns\n",
    "sns.set_context(\"poster\")"
   ]
  },
  {
   "cell_type": "code",
   "execution_count": null,
   "id": "a0edb483",
   "metadata": {},
   "outputs": [],
   "source": [
    "from sklearn.datasets import fetch_openml\n",
    "\n",
    "survey = fetch_openml(data_id=534, as_frame=True)\n",
    "survey.frame.head()"
   ]
  },
  {
   "cell_type": "code",
   "execution_count": null,
   "id": "601214d6",
   "metadata": {},
   "outputs": [],
   "source": [
    "from sklearn.model_selection import train_test_split\n",
    "\n",
    "X_train, X_test, y_train, y_test = train_test_split(\n",
    "    survey.data, survey.target, random_state=0\n",
    ")"
   ]
  },
  {
   "cell_type": "code",
   "execution_count": null,
   "id": "893b36fe",
   "metadata": {
    "lines_to_next_cell": 0
   },
   "outputs": [],
   "source": [
    "from sklearn.preprocessing import OrdinalEncoder\n",
    "from sklearn.compose import make_column_selector, make_column_transformer\n",
    "\n",
    "categorical_columns = make_column_selector(dtype_include=\"category\")\n",
    "numerical_columns = make_column_selector(dtype_exclude=\"category\")\n",
    "preprocessor = make_column_transformer(\n",
    "    (\n",
    "        OrdinalEncoder(\n",
    "            handle_unknown=\"use_encoded_value\",\n",
    "            unknown_value=-1,\n",
    "        ),\n",
    "        categorical_columns,\n",
    "    ),\n",
    "    remainder=\"passthrough\",\n",
    "    verbose_feature_names_out=False,\n",
    ")"
   ]
  },
  {
   "cell_type": "code",
   "execution_count": null,
   "id": "365dec1d",
   "metadata": {},
   "outputs": [],
   "source": [
    "from sklearn.pipeline import make_pipeline\n",
    "from sklearn.ensemble import HistGradientBoostingRegressor\n",
    "\n",
    "model = make_pipeline(\n",
    "    preprocessor,\n",
    "    HistGradientBoostingRegressor(max_iter=10_000, early_stopping=True, random_state=0),\n",
    ")\n",
    "model.fit(X_train, y_train)"
   ]
  },
  {
   "cell_type": "code",
   "execution_count": null,
   "id": "32212765",
   "metadata": {},
   "outputs": [],
   "source": [
    "from sklearn.metrics import mean_absolute_error\n",
    "\n",
    "print(\n",
    "    f\"MAE on the training set: \"\n",
    "    f\"{mean_absolute_error(y_train, model.predict(X_train)):.3f} $/hour\"\n",
    ")\n",
    "print(\n",
    "    f\"MAE on the testing set: \"\n",
    "    f\"{mean_absolute_error(y_test, model.predict(X_test)):.3f} $/hour\"\n",
    ")"
   ]
  },
  {
   "cell_type": "code",
   "execution_count": null,
   "id": "ba9f742c-8b5b-4a2c-be40-f40412d36901",
   "metadata": {},
   "outputs": [],
   "source": [
    "import matplotlib.pyplot as plt\n",
    "\n",
    "_ = plt.hist(y_train, bins=30)"
   ]
  },
  {
   "cell_type": "code",
   "execution_count": null,
   "id": "53ee71a8-c0c4-4cfd-a81f-1d4926e4fb14",
   "metadata": {},
   "outputs": [],
   "source": [
    "from sklearn.metrics import mean_absolute_percentage_error\n",
    "\n",
    "print(\n",
    "    f\"MAPE on the training set: \"\n",
    "    f\"{mean_absolute_percentage_error(y_train, model.predict(X_train)) * 100:.1f}%\"\n",
    ")\n",
    "print(\n",
    "    f\"MAPE on the testing set: \"\n",
    "    f\"{mean_absolute_percentage_error(y_test, model.predict(X_test)) * 100:.1f}%\"\n",
    ")"
   ]
  },
  {
   "cell_type": "markdown",
   "id": "71d4ac6a",
   "metadata": {},
   "source": [
    "\n",
    "## What SHAP values mean?"
   ]
  },
  {
   "cell_type": "code",
   "execution_count": null,
   "id": "02549fb3",
   "metadata": {},
   "outputs": [],
   "source": [
    "import pandas as pd\n",
    "\n",
    "feature_names = categorical_columns(X_train) + numerical_columns(X_train)\n",
    "X_train_preprocessed = pd.DataFrame(\n",
    "    preprocessor.fit_transform(X_train), columns=feature_names\n",
    ")\n",
    "X_test_preprocessed = pd.DataFrame(\n",
    "    preprocessor.transform(X_test), columns=feature_names\n",
    ")"
   ]
  },
  {
   "cell_type": "code",
   "execution_count": null,
   "id": "8a8a6664",
   "metadata": {},
   "outputs": [],
   "source": [
    "import shap\n",
    "\n",
    "explainer = shap.Explainer(\n",
    "    model[-1], masker=X_train_preprocessed, feature_perturbation=\"interventional\"\n",
    ")\n",
    "shap_values = explainer(X_test_preprocessed)\n",
    "shap_values"
   ]
  },
  {
   "cell_type": "markdown",
   "id": "30fe87b2",
   "metadata": {},
   "source": [
    "\n",
    "## Explain model's prediction vs. mean prediction"
   ]
  },
  {
   "cell_type": "code",
   "execution_count": null,
   "id": "d9342b8e",
   "metadata": {},
   "outputs": [],
   "source": [
    "model.predict(X_test.iloc[[0]])"
   ]
  },
  {
   "cell_type": "markdown",
   "id": "1fbc482d",
   "metadata": {},
   "source": [
    "\n",
    "The reported SHAP values for the different features are:"
   ]
  },
  {
   "cell_type": "code",
   "execution_count": null,
   "id": "a0ec379b",
   "metadata": {},
   "outputs": [],
   "source": [
    "pd.Series(shap_values[0].values, index=feature_names)"
   ]
  },
  {
   "cell_type": "markdown",
   "id": "ddc40c6b",
   "metadata": {},
   "source": [
    "\n",
    "Taking into account the base value, then the model prediction corresponds to\n",
    "the following sum:"
   ]
  },
  {
   "cell_type": "code",
   "execution_count": null,
   "id": "920386fd",
   "metadata": {},
   "outputs": [],
   "source": [
    "shap_values[0].values.sum() + shap_values.base_values[0]"
   ]
  },
  {
   "cell_type": "markdown",
   "id": "943f8ff6",
   "metadata": {},
   "source": [
    "\n",
    "## SHAP as a visual debugging tool\n",
    "\n",
    "SHAP package comes with handy plotting facilities to visualize the Shapley\n",
    "values."
   ]
  },
  {
   "cell_type": "code",
   "execution_count": null,
   "id": "213df7d6",
   "metadata": {},
   "outputs": [],
   "source": [
    "shap.plots.waterfall(shap_values[0])"
   ]
  },
  {
   "cell_type": "code",
   "execution_count": null,
   "id": "9e051a49",
   "metadata": {},
   "outputs": [],
   "source": [
    "shap.initjs()\n",
    "shap.plots.force(\n",
    "    shap_values.base_values[0],\n",
    "    shap_values.values[0],\n",
    "    feature_names=feature_names,\n",
    ")"
   ]
  },
  {
   "cell_type": "code",
   "execution_count": null,
   "id": "96116b0f",
   "metadata": {},
   "outputs": [],
   "source": [
    "shap.plots.beeswarm(shap_values)"
   ]
  },
  {
   "cell_type": "markdown",
   "id": "5d355c90",
   "metadata": {},
   "source": [
    "\n",
    "## Global explanation by averaging local explanations"
   ]
  },
  {
   "cell_type": "code",
   "execution_count": null,
   "id": "42665cfb",
   "metadata": {},
   "outputs": [],
   "source": [
    "import matplotlib.pyplot as plt\n",
    "from sklearn.inspection import permutation_importance\n",
    "\n",
    "importances = permutation_importance(model, X_test, y_test, n_jobs=-1)\n",
    "sorted_idx = importances.importances_mean.argsort()\n",
    "\n",
    "importances = pd.DataFrame(\n",
    "    importances.importances[sorted_idx].T, columns=X_test.columns[sorted_idx]\n",
    ")\n",
    "importances.plot.box(vert=False, whis=100, figsize=(8, 6))\n",
    "plt.axvline(0, color=\"k\", linestyle=\"--\")\n",
    "plt.xlabel(\"Decrease in R2 score\")\n",
    "_ = plt.title(\"Permutation importances\")"
   ]
  },
  {
   "cell_type": "code",
   "execution_count": null,
   "id": "d393649e",
   "metadata": {},
   "outputs": [],
   "source": [
    "shap.plots.bar(shap_values)"
   ]
  },
  {
   "cell_type": "code",
   "execution_count": null,
   "id": "fa675b36-a201-4df0-996c-62bdc9b46efa",
   "metadata": {},
   "outputs": [],
   "source": [
    "abs_shap_values = pd.DataFrame(\n",
    "    np.abs(shap_values.values),\n",
    "    columns=X_train_preprocessed.columns,\n",
    ")\n",
    "abs_shap_values[\n",
    "    abs_shap_values.mean().sort_values().index\n",
    "].plot.box(vert=False, whis=100, figsize=(8, 6))\n",
    "_ = plt.xlabel(\"|SHAP value|\")"
   ]
  },
  {
   "cell_type": "markdown",
   "id": "90c4d76c",
   "metadata": {},
   "source": [
    "\n",
    "## Be aware of some pitfalls regarding SHAP\n",
    "\n",
    "Pitfalls can come from:\n",
    "\n",
    "- some issues with the usage of the library\n",
    "- some limitations due to theoretical assumptions"
   ]
  },
  {
   "cell_type": "code",
   "execution_count": null,
   "id": "6087b651",
   "metadata": {},
   "outputs": [],
   "source": [
    "explainer = shap.Explainer(\n",
    "    model[-1], masker=X_train_preprocessed,\n",
    ")\n",
    "shap_values = explainer(X_test_preprocessed)\n",
    "explainer"
   ]
  },
  {
   "cell_type": "code",
   "execution_count": null,
   "id": "cb6f2f5a",
   "metadata": {},
   "outputs": [],
   "source": [
    "explainer.feature_perturbation"
   ]
  },
  {
   "cell_type": "code",
   "execution_count": null,
   "id": "4d986bbc",
   "metadata": {},
   "outputs": [],
   "source": [
    "explainer = shap.Explainer(model[-1])\n",
    "_ = explainer(X_test_preprocessed)"
   ]
  },
  {
   "cell_type": "code",
   "execution_count": null,
   "id": "4a9b6b57",
   "metadata": {},
   "outputs": [],
   "source": [
    "explainer.feature_perturbation"
   ]
  },
  {
   "cell_type": "code",
   "execution_count": null,
   "id": "88f93241",
   "metadata": {},
   "outputs": [],
   "source": [
    "explainer = shap.Explainer(model[-1], feature_perturbation=\"interventional\")\n",
    "_ = explainer(X_test_preprocessed)"
   ]
  },
  {
   "cell_type": "code",
   "execution_count": null,
   "id": "3008cf82",
   "metadata": {},
   "outputs": [],
   "source": [
    "explainer.feature_perturbation"
   ]
  },
  {
   "cell_type": "markdown",
   "id": "56dce683-8d70-4f25-a7ef-67510090d5bb",
   "metadata": {},
   "source": [
    "![book_model](../images/feature_perturbation.png)\n",
    "![book_model](../images/causal_problem.png)"
   ]
  },
  {
   "cell_type": "code",
   "execution_count": null,
   "id": "27afa143",
   "metadata": {},
   "outputs": [],
   "source": [
    "X = np.concatenate([\n",
    "    [[0, 0]] * 400,\n",
    "    [[0, 1]] * 100,\n",
    "    [[1, 0]] * 100,\n",
    "    [[1, 1]] * 400\n",
    "], axis=0)\n",
    "X"
   ]
  },
  {
   "cell_type": "code",
   "execution_count": null,
   "id": "767c19a6",
   "metadata": {},
   "outputs": [],
   "source": [
    "y = np.array(\n",
    "    [0] * 400 + [50] * 100 + [50] * 100 + [100] * 400\n",
    ")"
   ]
  },
  {
   "cell_type": "code",
   "execution_count": null,
   "id": "4ca447fb",
   "metadata": {},
   "outputs": [],
   "source": [
    "from sklearn.tree import DecisionTreeRegressor\n",
    "\n",
    "tree_1 = DecisionTreeRegressor(random_state=0).fit(X, y)"
   ]
  },
  {
   "cell_type": "code",
   "execution_count": null,
   "id": "ba279552",
   "metadata": {},
   "outputs": [],
   "source": [
    "from sklearn.tree import plot_tree\n",
    "\n",
    "plt.figure(figsize=(10, 6))\n",
    "_ = plot_tree(tree_1)"
   ]
  },
  {
   "cell_type": "code",
   "execution_count": null,
   "id": "0aabf781",
   "metadata": {},
   "outputs": [],
   "source": [
    "tree_2 = DecisionTreeRegressor(random_state=4).fit(X, y)"
   ]
  },
  {
   "cell_type": "code",
   "execution_count": null,
   "id": "6d3b650a",
   "metadata": {},
   "outputs": [],
   "source": [
    "from sklearn.tree import plot_tree\n",
    "\n",
    "plt.figure(figsize=(10, 6))\n",
    "_ = plot_tree(tree_2)"
   ]
  },
  {
   "cell_type": "code",
   "execution_count": null,
   "id": "5c137eb2",
   "metadata": {},
   "outputs": [],
   "source": [
    "X_test = np.array([[1, 1]])\n",
    "explainer = shap.explainers.Exact(tree_1.predict, X)\n",
    "explainer(X_test)"
   ]
  },
  {
   "cell_type": "markdown",
   "id": "ace0400d-dc0a-4abd-b1ba-a4feb0647498",
   "metadata": {},
   "source": [
    "Let's disable the internal subsampling to compute the expected value on the full training set and therefore the true Shapeley values."
   ]
  },
  {
   "cell_type": "code",
   "execution_count": null,
   "id": "e3aef484",
   "metadata": {},
   "outputs": [],
   "source": [
    "explainer = shap.explainers.Exact(\n",
    "    tree_1.predict, masker=shap.maskers.Independent(X, max_samples=X.shape[0])\n",
    ")\n",
    "explainer(X_test)"
   ]
  },
  {
   "cell_type": "code",
   "execution_count": null,
   "id": "b55e442d",
   "metadata": {},
   "outputs": [],
   "source": [
    "explainer = shap.explainers.Exact(\n",
    "    tree_2.predict, masker=shap.maskers.Independent(X, max_samples=X.shape[0])\n",
    ")\n",
    "explainer(X_test)"
   ]
  },
  {
   "cell_type": "code",
   "execution_count": null,
   "id": "5b15a30b",
   "metadata": {},
   "outputs": [],
   "source": [
    "explainer = shap.Explainer(tree_1)\n",
    "explainer(X_test)"
   ]
  },
  {
   "cell_type": "code",
   "execution_count": null,
   "id": "2e162b4a",
   "metadata": {},
   "outputs": [],
   "source": [
    "explainer = shap.Explainer(tree_2)\n",
    "explainer(X_test)"
   ]
  },
  {
   "cell_type": "code",
   "execution_count": null,
   "id": "33ebd232",
   "metadata": {},
   "outputs": [],
   "source": [
    "explainer"
   ]
  },
  {
   "cell_type": "code",
   "execution_count": null,
   "id": "ea51c981-40cb-4f1b-9814-73bd32462e98",
   "metadata": {},
   "outputs": [],
   "source": [
    "explainer.feature_perturbation"
   ]
  },
  {
   "cell_type": "code",
   "execution_count": null,
   "id": "4019f28b",
   "metadata": {},
   "outputs": [],
   "source": [
    "explainer = shap.Explainer(tree_1, shap.maskers.Independent(X, max_samples=X.shape[0]))\n",
    "explainer(X_test)"
   ]
  },
  {
   "cell_type": "code",
   "execution_count": null,
   "id": "7b4effb7",
   "metadata": {},
   "outputs": [],
   "source": [
    "explainer = shap.Explainer(tree_2, shap.maskers.Independent(X, max_samples=X.shape[0]))\n",
    "explainer(X_test)"
   ]
  },
  {
   "cell_type": "code",
   "execution_count": null,
   "id": "e2eedc1a-93f0-4e9f-be16-a0c45bd7ae64",
   "metadata": {},
   "outputs": [],
   "source": [
    "explainer"
   ]
  },
  {
   "cell_type": "code",
   "execution_count": null,
   "id": "a6a0b38c-74f0-46fe-a23c-47aff53d53af",
   "metadata": {},
   "outputs": [],
   "source": [
    "explainer.feature_perturbation"
   ]
  },
  {
   "cell_type": "markdown",
   "id": "49eff1dd-e2bb-4dbc-b82a-2bca2aa6305e",
   "metadata": {},
   "source": [
    "### References\n",
    "\n",
    "[1] Kumar, I. Elizabeth, et al. \"Problems with Shapley-value-based explanations as feature importance measures.\" International Conference on Machine Learning. PMLR, 2020.\n",
    "\n",
    "[2] Janzing, Dominik, Lenon Minorics, and Patrick Blöbaum. \"Feature relevance quantification in explainable AI: A causal problem.\" International Conference on artificial intelligence and\n",
    "statistics. PMLR, 2020."
   ]
  }
 ],
 "metadata": {
  "jupytext": {
   "cell_metadata_filter": "-all",
   "main_language": "python",
   "notebook_metadata_filter": "-all"
  },
  "kernelspec": {
   "display_name": "Python 3 (ipykernel)",
   "language": "python",
   "name": "python3"
  },
  "language_info": {
   "codemirror_mode": {
    "name": "ipython",
    "version": 3
   },
   "file_extension": ".py",
   "mimetype": "text/x-python",
   "name": "python",
   "nbconvert_exporter": "python",
   "pygments_lexer": "ipython3",
   "version": "3.8.12"
  }
 },
 "nbformat": 4,
 "nbformat_minor": 5
}

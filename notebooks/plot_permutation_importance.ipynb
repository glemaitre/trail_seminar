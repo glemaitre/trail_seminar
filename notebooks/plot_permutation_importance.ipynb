{
 "cells": [
  {
   "cell_type": "markdown",
   "id": "8105970e",
   "metadata": {},
   "source": [
    "\n",
    "# Permutation Importance vs Random Forest Feature Importance (MDI)"
   ]
  },
  {
   "cell_type": "code",
   "execution_count": null,
   "id": "d42b8403",
   "metadata": {},
   "outputs": [],
   "source": [
    "import matplotlib.pyplot as plt\n",
    "import numpy as np\n",
    "import seaborn as sns\n",
    "sns.set_context(\"poster\")"
   ]
  },
  {
   "cell_type": "markdown",
   "id": "04cf109c",
   "metadata": {},
   "source": [
    "\n",
    "## Data Loading and Feature Engineering"
   ]
  },
  {
   "cell_type": "code",
   "execution_count": null,
   "id": "1525d31d",
   "metadata": {},
   "outputs": [],
   "source": [
    "from sklearn.datasets import fetch_openml\n",
    "from sklearn.model_selection import train_test_split\n",
    "\n",
    "X, y = fetch_openml(\"titanic\", version=1, as_frame=True, return_X_y=True)\n",
    "rng = np.random.RandomState(seed=42)\n",
    "X[\"random_cat\"] = rng.randint(3, size=X.shape[0])\n",
    "X[\"random_num\"] = rng.randn(X.shape[0])\n",
    "\n",
    "categorical_columns = [\"pclass\", \"sex\", \"embarked\", \"random_cat\"]\n",
    "numerical_columns = [\"age\", \"sibsp\", \"parch\", \"fare\", \"random_num\"]\n",
    "\n",
    "X = X[categorical_columns + numerical_columns]\n",
    "X_train, X_test, y_train, y_test = train_test_split(X, y, stratify=y, random_state=42)"
   ]
  },
  {
   "cell_type": "code",
   "execution_count": null,
   "id": "e5dc6a39",
   "metadata": {},
   "outputs": [],
   "source": [
    "from sklearn.ensemble import RandomForestClassifier\n",
    "from sklearn.impute import SimpleImputer\n",
    "from sklearn.compose import ColumnTransformer\n",
    "from sklearn.pipeline import Pipeline\n",
    "from sklearn.preprocessing import OrdinalEncoder\n",
    "\n",
    "categorical_encoder = OrdinalEncoder(\n",
    "    handle_unknown=\"use_encoded_value\", unknown_value=-1,\n",
    ")\n",
    "numerical_pipe = SimpleImputer(strategy=\"mean\")\n",
    "\n",
    "preprocessing = ColumnTransformer(\n",
    "    [\n",
    "        (\"cat\", categorical_encoder, categorical_columns),\n",
    "        (\"num\", numerical_pipe, numerical_columns),\n",
    "    ],\n",
    "    verbose_feature_names_out=False,\n",
    ")\n",
    "\n",
    "rf = Pipeline(\n",
    "    [\n",
    "        (\"preprocess\", preprocessing),\n",
    "        (\"classifier\", RandomForestClassifier(random_state=42)),\n",
    "    ]\n",
    ")\n",
    "rf.fit(X_train, y_train)"
   ]
  },
  {
   "cell_type": "markdown",
   "id": "108cb97c",
   "metadata": {},
   "source": [
    "\n",
    "## Accuracy of the Model"
   ]
  },
  {
   "cell_type": "code",
   "execution_count": null,
   "id": "c6ebc5d5",
   "metadata": {},
   "outputs": [],
   "source": [
    "print(f\"RF train accuracy: {rf.score(X_train, y_train):.3f}\")\n",
    "print(f\"RF test accuracy: {rf.score(X_test, y_test):.3f}\")"
   ]
  },
  {
   "cell_type": "markdown",
   "id": "323c2a04",
   "metadata": {},
   "source": [
    "\n",
    "## Tree's Feature Importance from Mean Decrease in Impurity (MDI)"
   ]
  },
  {
   "cell_type": "code",
   "execution_count": null,
   "id": "e7ef1f18",
   "metadata": {},
   "outputs": [],
   "source": [
    "import pandas as pd\n",
    "\n",
    "feature_names = categorical_columns + numerical_columns\n",
    "\n",
    "mdi_importance = pd.Series(\n",
    "    rf[-1].feature_importances_, index=feature_names\n",
    ").sort_values(ascending=True)"
   ]
  },
  {
   "cell_type": "code",
   "execution_count": null,
   "id": "d2fc1b22",
   "metadata": {},
   "outputs": [],
   "source": [
    "mdi_importance.plot.barh(figsize=(8, 6))\n",
    "plt.title(\"Random Forest Feature Importances (MDI)\")\n",
    "plt.xlabel(\"Mean decrease in impurity\")\n",
    "plt.tight_layout()"
   ]
  },
  {
   "cell_type": "markdown",
   "id": "2143f7a8",
   "metadata": {},
   "source": [
    "## Permutation Importance as alternative"
   ]
  },
  {
   "cell_type": "code",
   "execution_count": null,
   "id": "b7f4e18f",
   "metadata": {},
   "outputs": [],
   "source": [
    "from sklearn.inspection import permutation_importance\n",
    "\n",
    "result = permutation_importance(\n",
    "    rf, X_test, y_test, n_repeats=10, random_state=42, n_jobs=2\n",
    ")\n",
    "\n",
    "sorted_importances_idx = result.importances_mean.argsort()\n",
    "importances = pd.DataFrame(\n",
    "    result.importances[sorted_importances_idx].T,\n",
    "    columns=X.columns[sorted_importances_idx],\n",
    ")\n",
    "importances.plot.box(vert=False, whis=10, figsize=(8, 6))\n",
    "plt.title(\"Permutation Importances (test set)\")\n",
    "plt.axvline(x=0, color=\"k\", linestyle=\"--\")\n",
    "plt.xlabel(\"Decrease in accuracy score\")\n",
    "plt.tight_layout()"
   ]
  },
  {
   "cell_type": "code",
   "execution_count": null,
   "id": "b89c84c1",
   "metadata": {},
   "outputs": [],
   "source": [
    "result = permutation_importance(\n",
    "    rf, X_train, y_train, n_repeats=10, random_state=42, n_jobs=2\n",
    ")\n",
    "\n",
    "sorted_importances_idx = result.importances_mean.argsort()\n",
    "importances = pd.DataFrame(\n",
    "    result.importances[sorted_importances_idx].T,\n",
    "    columns=X.columns[sorted_importances_idx],\n",
    ")\n",
    "importances.plot.box(vert=False, whis=10, figsize=(8, 6))\n",
    "plt.title(\"Permutation Importances (train set)\")\n",
    "plt.axvline(x=0, color=\"k\", linestyle=\"--\")\n",
    "plt.xlabel(\"Decrease in accuracy score\")\n",
    "plt.tight_layout()"
   ]
  },
  {
   "cell_type": "markdown",
   "id": "96a0e054",
   "metadata": {},
   "source": [
    "\n",
    "## What happen with non-overfitted forest?"
   ]
  },
  {
   "cell_type": "code",
   "execution_count": null,
   "id": "fe4815be",
   "metadata": {},
   "outputs": [],
   "source": [
    "rf.set_params(classifier__min_samples_leaf=20).fit(X_train, y_train)"
   ]
  },
  {
   "cell_type": "code",
   "execution_count": null,
   "id": "3ea75e18",
   "metadata": {},
   "outputs": [],
   "source": [
    "print(f\"RF train accuracy: {rf.score(X_train, y_train):.3f}\")\n",
    "print(f\"RF test accuracy: {rf.score(X_test, y_test):.3f}\")"
   ]
  },
  {
   "cell_type": "code",
   "execution_count": null,
   "id": "bb26360c",
   "metadata": {},
   "outputs": [],
   "source": [
    "importances = {}\n",
    "for name, data, target in zip([\"train\", \"test\"], [X_train, X_test], [y_train, y_test]):\n",
    "    result = permutation_importance(\n",
    "        rf, data, target, n_repeats=10, random_state=42, n_jobs=2\n",
    "    )\n",
    "    if name == \"train\":\n",
    "        sorted_importances_idx = result.importances_mean.argsort()\n",
    "\n",
    "    importances[name] = pd.DataFrame(\n",
    "        result.importances[sorted_importances_idx].T,\n",
    "        columns=data.columns[sorted_importances_idx],\n",
    "    )\n",
    "importances = pd.concat(importances, names=[\"set\", \"permutation\"])"
   ]
  },
  {
   "cell_type": "code",
   "execution_count": null,
   "id": "e52e81c5",
   "metadata": {},
   "outputs": [],
   "source": [
    "for name, data in importances.reset_index(level=\"set\").groupby(\"set\"):\n",
    "    ax = data.plot.box(vert=False, whis=10, figsize=(8, 6))\n",
    "    ax.set_title(f\"Permutation Importances ({name} set)\")\n",
    "    ax.set_xlabel(\"Decrease in accuracy score\")\n",
    "    ax.axvline(x=0, color=\"k\", linestyle=\"--\")\n",
    "    plt.tight_layout()"
   ]
  }
 ],
 "metadata": {
  "jupytext": {
   "cell_metadata_filter": "-all",
   "main_language": "python",
   "notebook_metadata_filter": "-all"
  }
 },
 "nbformat": 4,
 "nbformat_minor": 5
}

{
 "cells": [
  {
   "cell_type": "markdown",
   "id": "be1c9dff",
   "metadata": {},
   "source": [
    "# Permutation Importance vs Random Forest Feature Importance (MDI)\n",
    "\n",
    "In this example, we will compare the impurity-based feature importance of\n",
    "`RandomForestClassifier` with the\n",
    "permutation importance on the titanic dataset using\n",
    "`permutation_importance`. We will show that the\n",
    "impurity-based feature importance can inflate the importance of numerical\n",
    "features.\n",
    "\n",
    "Furthermore, the impurity-based feature importance of random forests suffers\n",
    "from being computed on statistics derived from the training dataset: the\n",
    "importances can be high even for features that are not predictive of the target\n",
    "variable, as long as the model has the capacity to use them to overfit.\n",
    "\n",
    "This example shows how to use Permutation Importances as an alternative that\n",
    "can mitigate those limitations.\n",
    "\n",
    ".. topic:: References:\n",
    "\n",
    "   * :doi:`L. Breiman, \"Random Forests\", Machine Learning, 45(1), 5-32,\n",
    "     2001. <10.1023/A:1010933404324>`"
   ]
  },
  {
   "cell_type": "code",
   "execution_count": null,
   "id": "0f52ca38",
   "metadata": {},
   "outputs": [],
   "source": [
    "import matplotlib.pyplot as plt\n",
    "import numpy as np\n",
    "import sklearn\n",
    "\n",
    "sklearn.set_config(display=\"diagram\")"
   ]
  },
  {
   "cell_type": "markdown",
   "id": "d8679837",
   "metadata": {},
   "source": [
    "## Data Loading and Feature Engineering\n",
    "\n",
    "Let's use pandas to load a copy of the titanic dataset. The following shows\n",
    "how to apply separate preprocessing on numerical and categorical features.\n",
    "\n",
    "We further include two random variables that are not correlated in any way\n",
    "with the target variable (``survived``):\n",
    "\n",
    "- ``random_num`` is a high cardinality numerical variable (as many unique\n",
    "  values as records).\n",
    "- ``random_cat`` is a low cardinality categorical variable (3 possible\n",
    "  values)."
   ]
  },
  {
   "cell_type": "code",
   "execution_count": null,
   "id": "621a3a2f",
   "metadata": {},
   "outputs": [],
   "source": [
    "from sklearn.datasets import fetch_openml\n",
    "from sklearn.model_selection import train_test_split\n",
    "\n",
    "X, y = fetch_openml(\"titanic\", version=1, as_frame=True, return_X_y=True)\n",
    "rng = np.random.RandomState(seed=42)\n",
    "X[\"random_cat\"] = rng.randint(3, size=X.shape[0])\n",
    "X[\"random_num\"] = rng.randn(X.shape[0])\n",
    "\n",
    "categorical_columns = [\"pclass\", \"sex\", \"embarked\", \"random_cat\"]\n",
    "numerical_columns = [\"age\", \"sibsp\", \"parch\", \"fare\", \"random_num\"]\n",
    "\n",
    "X = X[categorical_columns + numerical_columns]\n",
    "X_train, X_test, y_train, y_test = train_test_split(X, y, stratify=y, random_state=42)"
   ]
  },
  {
   "cell_type": "markdown",
   "id": "792cdfda",
   "metadata": {},
   "source": [
    "We define a predictive model based on random forest. Therefore, we will make\n",
    "the following preprocessing steps:\n",
    "\n",
    "- use `OrdinaleEcnoder` to encode the categorical features;\n",
    "- use `SimpleImputer` to fill missing values for numerical features using a\n",
    "  mean strategy."
   ]
  },
  {
   "cell_type": "code",
   "execution_count": null,
   "id": "e85f66f7",
   "metadata": {},
   "outputs": [],
   "source": [
    "from sklearn.ensemble import RandomForestClassifier\n",
    "from sklearn.impute import SimpleImputer\n",
    "from sklearn.compose import ColumnTransformer\n",
    "from sklearn.pipeline import Pipeline\n",
    "from sklearn.preprocessing import OrdinalEncoder\n",
    "\n",
    "categorical_encoder = OrdinalEncoder(\n",
    "    handle_unknown=\"use_encoded_value\", unknown_value=-1,\n",
    ")\n",
    "numerical_pipe = SimpleImputer(strategy=\"mean\")\n",
    "\n",
    "preprocessing = ColumnTransformer(\n",
    "    [\n",
    "        (\"cat\", categorical_encoder, categorical_columns),\n",
    "        (\"num\", numerical_pipe, numerical_columns),\n",
    "    ],\n",
    "    verbose_feature_names_out=False,\n",
    ")\n",
    "\n",
    "rf = Pipeline(\n",
    "    [\n",
    "        (\"preprocess\", preprocessing),\n",
    "        (\"classifier\", RandomForestClassifier(random_state=42)),\n",
    "    ]\n",
    ")\n",
    "rf.fit(X_train, y_train)"
   ]
  },
  {
   "cell_type": "markdown",
   "id": "6a1dec6a",
   "metadata": {},
   "source": [
    "## Accuracy of the Model\n",
    "\n",
    "Prior to inspecting the feature importances, it is important to check that\n",
    "the model predictive performance is high enough. Indeed there would be little\n",
    "interest of inspecting the important features of a non-predictive model.\n",
    "\n",
    "Here one can observe that the train accuracy is very high (the forest model\n",
    "has enough capacity to completely memorize the training set) but it can still\n",
    "generalize well enough to the test set thanks to the built-in bagging of\n",
    "random forests.\n",
    "\n",
    "It might be possible to trade some accuracy on the training set for a\n",
    "slightly better accuracy on the test set by limiting the capacity of the\n",
    "trees (for instance by setting ``min_samples_leaf=5`` or\n",
    "``min_samples_leaf=10``) so as to limit overfitting while not introducing too\n",
    "much underfitting.\n",
    "\n",
    "However let's keep our high capacity random forest model for now so as to\n",
    "illustrate some pitfalls with feature importance on variables with many\n",
    "unique values."
   ]
  },
  {
   "cell_type": "code",
   "execution_count": null,
   "id": "8cd0d757",
   "metadata": {
    "lines_to_next_cell": 2
   },
   "outputs": [],
   "source": [
    "print(f\"RF train accuracy: {rf.score(X_train, y_train):.3f}\")\n",
    "print(f\"RF test accuracy: {rf.score(X_test, y_test):.3f}\")"
   ]
  },
  {
   "cell_type": "markdown",
   "id": "0ee661cb",
   "metadata": {},
   "source": [
    "## Tree's Feature Importance from Mean Decrease in Impurity (MDI)\n",
    "\n",
    "The impurity-based feature importance ranks the numerical features to be the\n",
    "most important features. As a result, the non-predictive ``random_num``\n",
    "variable is ranked as one of the most important features!\n",
    "\n",
    "This problem stems from two limitations of impurity-based feature\n",
    "importances:\n",
    "\n",
    "- impurity-based importances are biased towards high cardinality features;\n",
    "- impurity-based importances are computed on training set statistics and\n",
    "  therefore do not reflect the ability of feature to be useful to make\n",
    "  predictions that generalize to the test set (when the model has enough\n",
    "  capacity).\n",
    "\n",
    "The latter point explains why both the `random_num` and `random_cat` features\n",
    "have a non-null importance. The former point explains why the `random_num`\n",
    "has a really large importance in comparison with `random_cat` while we would\n",
    "expect both random features to have a null importance."
   ]
  },
  {
   "cell_type": "code",
   "execution_count": null,
   "id": "9e72510d",
   "metadata": {},
   "outputs": [],
   "source": [
    "import pandas as pd\n",
    "\n",
    "feature_names = categorical_columns + numerical_columns\n",
    "\n",
    "mdi_importance = pd.Series(\n",
    "    rf[-1].feature_importances_, index=feature_names\n",
    ").sort_values(ascending=True)"
   ]
  },
  {
   "cell_type": "code",
   "execution_count": null,
   "id": "94c3cc13",
   "metadata": {},
   "outputs": [],
   "source": [
    "mdi_importance.plot.barh()\n",
    "plt.title(\"Random Forest Feature Importances (MDI)\")\n",
    "plt.xlabel(\"Mean decrease in impurity\")\n",
    "plt.tight_layout()"
   ]
  },
  {
   "cell_type": "markdown",
   "id": "f8be07e7",
   "metadata": {},
   "source": [
    "As an alternative, the permutation importances of ``rf`` are computed on a\n",
    "held out test set. This shows that the low cardinality categorical feature,\n",
    "`sex` and `pclass` are the most important feature. Indeed, permuting the\n",
    "values of these features will lead to most decrease in accuracy score of the\n",
    "model on the test set.\n",
    "\n",
    "Also note that both random features have very low importances (close to 0) as\n",
    "expected."
   ]
  },
  {
   "cell_type": "code",
   "execution_count": null,
   "id": "cd13082f",
   "metadata": {},
   "outputs": [],
   "source": [
    "from sklearn.inspection import permutation_importance\n",
    "\n",
    "result = permutation_importance(\n",
    "    rf, X_test, y_test, n_repeats=10, random_state=42, n_jobs=2\n",
    ")\n",
    "\n",
    "sorted_importances_idx = result.importances_mean.argsort()\n",
    "importances = pd.DataFrame(\n",
    "    result.importances[sorted_importances_idx].T,\n",
    "    columns=X.columns[sorted_importances_idx],\n",
    ")\n",
    "importances.plot.box(vert=False, whis=10)\n",
    "plt.title(\"Permutation Importances (test set)\")\n",
    "plt.axvline(x=0, color=\"k\", linestyle=\"--\")\n",
    "plt.xlabel(\"Decrease in accuracy score\")\n",
    "plt.tight_layout()"
   ]
  },
  {
   "cell_type": "markdown",
   "id": "3eeff625",
   "metadata": {},
   "source": [
    "It is also possible to compute the permutation importances on the training\n",
    "set. This reveals that `random_num` and `random_cat` get a significantly\n",
    "higher importance ranking than when computed on the test set. The difference\n",
    "between those two plots is a confirmation that the RF model has enough\n",
    "capacity to use that random numerical and categorical features to overfit."
   ]
  },
  {
   "cell_type": "code",
   "execution_count": null,
   "id": "8423e32b",
   "metadata": {},
   "outputs": [],
   "source": [
    "result = permutation_importance(\n",
    "    rf, X_train, y_train, n_repeats=10, random_state=42, n_jobs=2\n",
    ")\n",
    "\n",
    "sorted_importances_idx = result.importances_mean.argsort()\n",
    "importances = pd.DataFrame(\n",
    "    result.importances[sorted_importances_idx].T,\n",
    "    columns=X.columns[sorted_importances_idx],\n",
    ")\n",
    "importances.plot.box(vert=False, whis=10)\n",
    "plt.title(\"Permutation Importances (train set)\")\n",
    "plt.axvline(x=0, color=\"k\", linestyle=\"--\")\n",
    "plt.xlabel(\"Decrease in accuracy score\")\n",
    "plt.tight_layout()"
   ]
  },
  {
   "cell_type": "markdown",
   "id": "8d8876d7",
   "metadata": {},
   "source": [
    "We can further retry the experiment by limiting the capacity of the trees\n",
    "to overfit by setting `min_samples_leaf` at 20 data points."
   ]
  },
  {
   "cell_type": "code",
   "execution_count": null,
   "id": "1176548a",
   "metadata": {},
   "outputs": [],
   "source": [
    "rf.set_params(classifier__min_samples_leaf=20).fit(X_train, y_train)"
   ]
  },
  {
   "cell_type": "markdown",
   "id": "aa72a8be",
   "metadata": {},
   "source": [
    "Observing the accuracy score on the training and testing set, we observe that\n",
    "the two metrics are very similar now. Therefore, our model is not overfitting\n",
    "anymore. We can then check the permutation importances with this new model."
   ]
  },
  {
   "cell_type": "code",
   "execution_count": null,
   "id": "7cf5a102",
   "metadata": {},
   "outputs": [],
   "source": [
    "print(f\"RF train accuracy: {rf.score(X_train, y_train):.3f}\")\n",
    "print(f\"RF test accuracy: {rf.score(X_test, y_test):.3f}\")"
   ]
  },
  {
   "cell_type": "code",
   "execution_count": null,
   "id": "b60ae27b",
   "metadata": {},
   "outputs": [],
   "source": [
    "importances = {}\n",
    "for name, data, target in zip([\"train\", \"test\"], [X_train, X_test], [y_train, y_test]):\n",
    "    result = permutation_importance(\n",
    "        rf, data, target, n_repeats=10, random_state=42, n_jobs=2\n",
    "    )\n",
    "    if name == \"train\":\n",
    "        sorted_importances_idx = result.importances_mean.argsort()\n",
    "\n",
    "    importances[name] = pd.DataFrame(\n",
    "        result.importances[sorted_importances_idx].T,\n",
    "        columns=data.columns[sorted_importances_idx],\n",
    "    )\n",
    "importances = pd.concat(importances, names=[\"set\", \"permutation\"])"
   ]
  },
  {
   "cell_type": "code",
   "execution_count": null,
   "id": "ff6af375",
   "metadata": {},
   "outputs": [],
   "source": [
    "for name, data in importances.reset_index(level=\"set\").groupby(\"set\"):\n",
    "    ax = data.plot.box(vert=False, whis=10)\n",
    "    ax.set_title(f\"Permutation Importances ({name} set)\")\n",
    "    ax.set_xlabel(\"Decrease in accuracy score\")\n",
    "    ax.axvline(x=0, color=\"k\", linestyle=\"--\")\n",
    "    plt.tight_layout()"
   ]
  },
  {
   "cell_type": "markdown",
   "id": "74dd280a",
   "metadata": {},
   "source": [
    "Now, we can observe that on both sets, the `random_num` and `random_cat`\n",
    "features have a lower importance compared to the overfitting random forest.\n",
    "However, the conclusions regarding the importance of the other features are\n",
    "still valid."
   ]
  }
 ],
 "metadata": {
  "jupytext": {
   "cell_metadata_filter": "-all",
   "main_language": "python",
   "notebook_metadata_filter": "-all"
  },
  "kernelspec": {
   "display_name": "Python 3 (ipykernel)",
   "language": "python",
   "name": "python3"
  },
  "language_info": {
   "codemirror_mode": {
    "name": "ipython",
    "version": 3
   },
   "file_extension": ".py",
   "mimetype": "text/x-python",
   "name": "python",
   "nbconvert_exporter": "python",
   "pygments_lexer": "ipython3",
   "version": "3.8.12"
  }
 },
 "nbformat": 4,
 "nbformat_minor": 5
}

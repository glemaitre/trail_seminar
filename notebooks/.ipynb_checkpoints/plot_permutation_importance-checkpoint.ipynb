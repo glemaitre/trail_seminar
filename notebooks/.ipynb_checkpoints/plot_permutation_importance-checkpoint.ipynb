{
 "cells": [
  {
   "cell_type": "markdown",
   "id": "be1c9dff",
   "metadata": {},
   "source": [
    "# Permutation Importance vs Random Forest Feature Importance (MDI)\n",
    "\n",
    "In this example, we will compare the impurity-based feature importance of\n",
    "`RandomForestClassifier` with the\n",
    "permutation importance on the titanic dataset using\n",
    "`permutation_importance`. We will show that the\n",
    "impurity-based feature importance can inflate the importance of numerical\n",
    "features.\n",
    "\n",
    "Furthermore, the impurity-based feature importance of random forests suffers\n",
    "from being computed on statistics derived from the training dataset: the\n",
    "importances can be high even for features that are not predictive of the target\n",
    "variable, as long as the model has the capacity to use them to overfit.\n",
    "\n",
    "This example shows how to use Permutation Importances as an alternative that\n",
    "can mitigate those limitations.\n",
    "\n",
    ".. topic:: References:\n",
    "\n",
    "   * :doi:`L. Breiman, \"Random Forests\", Machine Learning, 45(1), 5-32,\n",
    "     2001. <10.1023/A:1010933404324>`"
   ]
  },
  {
   "cell_type": "code",
   "execution_count": 1,
   "id": "0f52ca38",
   "metadata": {},
   "outputs": [],
   "source": [
    "import matplotlib.pyplot as plt\n",
    "import numpy as np\n",
    "import sklearn\n",
    "\n",
    "sklearn.set_config(display=\"diagram\")"
   ]
  },
  {
   "cell_type": "markdown",
   "id": "d8679837",
   "metadata": {},
   "source": [
    "## Data Loading and Feature Engineering\n",
    "\n",
    "Let's use pandas to load a copy of the titanic dataset. The following shows\n",
    "how to apply separate preprocessing on numerical and categorical features.\n",
    "\n",
    "We further include two random variables that are not correlated in any way\n",
    "with the target variable (``survived``):\n",
    "\n",
    "- ``random_num`` is a high cardinality numerical variable (as many unique\n",
    "  values as records).\n",
    "- ``random_cat`` is a low cardinality categorical variable (3 possible\n",
    "  values)."
   ]
  },
  {
   "cell_type": "code",
   "execution_count": 2,
   "id": "621a3a2f",
   "metadata": {},
   "outputs": [],
   "source": [
    "from sklearn.datasets import fetch_openml\n",
    "from sklearn.model_selection import train_test_split\n",
    "\n",
    "X, y = fetch_openml(\"titanic\", version=1, as_frame=True, return_X_y=True)\n",
    "rng = np.random.RandomState(seed=42)\n",
    "X[\"random_cat\"] = rng.randint(3, size=X.shape[0])\n",
    "X[\"random_num\"] = rng.randn(X.shape[0])\n",
    "\n",
    "categorical_columns = [\"pclass\", \"sex\", \"embarked\", \"random_cat\"]\n",
    "numerical_columns = [\"age\", \"sibsp\", \"parch\", \"fare\", \"random_num\"]\n",
    "\n",
    "X = X[categorical_columns + numerical_columns]\n",
    "X_train, X_test, y_train, y_test = train_test_split(X, y, stratify=y, random_state=42)"
   ]
  },
  {
   "cell_type": "markdown",
   "id": "792cdfda",
   "metadata": {},
   "source": [
    "We define a predictive model based on random forest. Therefore, we will make\n",
    "the following preprocessing steps:\n",
    "\n",
    "- use `OrdinaleEcnoder` to encode the categorical features;\n",
    "- use `SimpleImputer` to fill missing values for numerical features using a\n",
    "  mean strategy."
   ]
  },
  {
   "cell_type": "code",
   "execution_count": 3,
   "id": "e85f66f7",
   "metadata": {},
   "outputs": [
    {
     "data": {
      "text/html": [
       "<style>#sk-d84079d6-905f-4858-927b-aea6ad9aa061 {color: black;background-color: white;}#sk-d84079d6-905f-4858-927b-aea6ad9aa061 pre{padding: 0;}#sk-d84079d6-905f-4858-927b-aea6ad9aa061 div.sk-toggleable {background-color: white;}#sk-d84079d6-905f-4858-927b-aea6ad9aa061 label.sk-toggleable__label {cursor: pointer;display: block;width: 100%;margin-bottom: 0;padding: 0.3em;box-sizing: border-box;text-align: center;}#sk-d84079d6-905f-4858-927b-aea6ad9aa061 label.sk-toggleable__label-arrow:before {content: \"▸\";float: left;margin-right: 0.25em;color: #696969;}#sk-d84079d6-905f-4858-927b-aea6ad9aa061 label.sk-toggleable__label-arrow:hover:before {color: black;}#sk-d84079d6-905f-4858-927b-aea6ad9aa061 div.sk-estimator:hover label.sk-toggleable__label-arrow:before {color: black;}#sk-d84079d6-905f-4858-927b-aea6ad9aa061 div.sk-toggleable__content {max-height: 0;max-width: 0;overflow: hidden;text-align: left;background-color: #f0f8ff;}#sk-d84079d6-905f-4858-927b-aea6ad9aa061 div.sk-toggleable__content pre {margin: 0.2em;color: black;border-radius: 0.25em;background-color: #f0f8ff;}#sk-d84079d6-905f-4858-927b-aea6ad9aa061 input.sk-toggleable__control:checked~div.sk-toggleable__content {max-height: 200px;max-width: 100%;overflow: auto;}#sk-d84079d6-905f-4858-927b-aea6ad9aa061 input.sk-toggleable__control:checked~label.sk-toggleable__label-arrow:before {content: \"▾\";}#sk-d84079d6-905f-4858-927b-aea6ad9aa061 div.sk-estimator input.sk-toggleable__control:checked~label.sk-toggleable__label {background-color: #d4ebff;}#sk-d84079d6-905f-4858-927b-aea6ad9aa061 div.sk-label input.sk-toggleable__control:checked~label.sk-toggleable__label {background-color: #d4ebff;}#sk-d84079d6-905f-4858-927b-aea6ad9aa061 input.sk-hidden--visually {border: 0;clip: rect(1px 1px 1px 1px);clip: rect(1px, 1px, 1px, 1px);height: 1px;margin: -1px;overflow: hidden;padding: 0;position: absolute;width: 1px;}#sk-d84079d6-905f-4858-927b-aea6ad9aa061 div.sk-estimator {font-family: monospace;background-color: #f0f8ff;border: 1px dotted black;border-radius: 0.25em;box-sizing: border-box;margin-bottom: 0.5em;}#sk-d84079d6-905f-4858-927b-aea6ad9aa061 div.sk-estimator:hover {background-color: #d4ebff;}#sk-d84079d6-905f-4858-927b-aea6ad9aa061 div.sk-parallel-item::after {content: \"\";width: 100%;border-bottom: 1px solid gray;flex-grow: 1;}#sk-d84079d6-905f-4858-927b-aea6ad9aa061 div.sk-label:hover label.sk-toggleable__label {background-color: #d4ebff;}#sk-d84079d6-905f-4858-927b-aea6ad9aa061 div.sk-serial::before {content: \"\";position: absolute;border-left: 1px solid gray;box-sizing: border-box;top: 2em;bottom: 0;left: 50%;}#sk-d84079d6-905f-4858-927b-aea6ad9aa061 div.sk-serial {display: flex;flex-direction: column;align-items: center;background-color: white;padding-right: 0.2em;padding-left: 0.2em;}#sk-d84079d6-905f-4858-927b-aea6ad9aa061 div.sk-item {z-index: 1;}#sk-d84079d6-905f-4858-927b-aea6ad9aa061 div.sk-parallel {display: flex;align-items: stretch;justify-content: center;background-color: white;}#sk-d84079d6-905f-4858-927b-aea6ad9aa061 div.sk-parallel::before {content: \"\";position: absolute;border-left: 1px solid gray;box-sizing: border-box;top: 2em;bottom: 0;left: 50%;}#sk-d84079d6-905f-4858-927b-aea6ad9aa061 div.sk-parallel-item {display: flex;flex-direction: column;position: relative;background-color: white;}#sk-d84079d6-905f-4858-927b-aea6ad9aa061 div.sk-parallel-item:first-child::after {align-self: flex-end;width: 50%;}#sk-d84079d6-905f-4858-927b-aea6ad9aa061 div.sk-parallel-item:last-child::after {align-self: flex-start;width: 50%;}#sk-d84079d6-905f-4858-927b-aea6ad9aa061 div.sk-parallel-item:only-child::after {width: 0;}#sk-d84079d6-905f-4858-927b-aea6ad9aa061 div.sk-dashed-wrapped {border: 1px dashed gray;margin: 0 0.4em 0.5em 0.4em;box-sizing: border-box;padding-bottom: 0.4em;background-color: white;position: relative;}#sk-d84079d6-905f-4858-927b-aea6ad9aa061 div.sk-label label {font-family: monospace;font-weight: bold;background-color: white;display: inline-block;line-height: 1.2em;}#sk-d84079d6-905f-4858-927b-aea6ad9aa061 div.sk-label-container {position: relative;z-index: 2;text-align: center;}#sk-d84079d6-905f-4858-927b-aea6ad9aa061 div.sk-container {/* jupyter's `normalize.less` sets `[hidden] { display: none; }` but bootstrap.min.css set `[hidden] { display: none !important; }` so we also need the `!important` here to be able to override the default hidden behavior on the sphinx rendered scikit-learn.org. See: https://github.com/scikit-learn/scikit-learn/issues/21755 */display: inline-block !important;position: relative;}#sk-d84079d6-905f-4858-927b-aea6ad9aa061 div.sk-text-repr-fallback {display: none;}</style><div id=\"sk-d84079d6-905f-4858-927b-aea6ad9aa061\" class=\"sk-top-container\"><div class=\"sk-text-repr-fallback\"><pre>Pipeline(steps=[(&#x27;preprocess&#x27;,\n",
       "                 ColumnTransformer(transformers=[(&#x27;cat&#x27;,\n",
       "                                                  OrdinalEncoder(handle_unknown=&#x27;use_encoded_value&#x27;,\n",
       "                                                                 unknown_value=-1),\n",
       "                                                  [&#x27;pclass&#x27;, &#x27;sex&#x27;, &#x27;embarked&#x27;,\n",
       "                                                   &#x27;random_cat&#x27;]),\n",
       "                                                 (&#x27;num&#x27;, SimpleImputer(),\n",
       "                                                  [&#x27;age&#x27;, &#x27;sibsp&#x27;, &#x27;parch&#x27;,\n",
       "                                                   &#x27;fare&#x27;, &#x27;random_num&#x27;])],\n",
       "                                   verbose_feature_names_out=False)),\n",
       "                (&#x27;classifier&#x27;, RandomForestClassifier(random_state=42))])</pre><b>In a Jupyter environment, please rerun this cell to show the HTML representation or trust the notebook. <br />On GitHub, the HTML representation is unable to render, please try loading this page with nbviewer.org.</b></div><div class=\"sk-container\" hidden><div class=\"sk-item sk-dashed-wrapped\"><div class=\"sk-label-container\"><div class=\"sk-label sk-toggleable\"><input class=\"sk-toggleable__control sk-hidden--visually\" id=\"422b79e6-843d-4233-8194-cb1a0430b998\" type=\"checkbox\" ><label for=\"422b79e6-843d-4233-8194-cb1a0430b998\" class=\"sk-toggleable__label sk-toggleable__label-arrow\">Pipeline</label><div class=\"sk-toggleable__content\"><pre>Pipeline(steps=[(&#x27;preprocess&#x27;,\n",
       "                 ColumnTransformer(transformers=[(&#x27;cat&#x27;,\n",
       "                                                  OrdinalEncoder(handle_unknown=&#x27;use_encoded_value&#x27;,\n",
       "                                                                 unknown_value=-1),\n",
       "                                                  [&#x27;pclass&#x27;, &#x27;sex&#x27;, &#x27;embarked&#x27;,\n",
       "                                                   &#x27;random_cat&#x27;]),\n",
       "                                                 (&#x27;num&#x27;, SimpleImputer(),\n",
       "                                                  [&#x27;age&#x27;, &#x27;sibsp&#x27;, &#x27;parch&#x27;,\n",
       "                                                   &#x27;fare&#x27;, &#x27;random_num&#x27;])],\n",
       "                                   verbose_feature_names_out=False)),\n",
       "                (&#x27;classifier&#x27;, RandomForestClassifier(random_state=42))])</pre></div></div></div><div class=\"sk-serial\"><div class=\"sk-item sk-dashed-wrapped\"><div class=\"sk-label-container\"><div class=\"sk-label sk-toggleable\"><input class=\"sk-toggleable__control sk-hidden--visually\" id=\"11183609-71d9-4147-b7ea-dd0842234e47\" type=\"checkbox\" ><label for=\"11183609-71d9-4147-b7ea-dd0842234e47\" class=\"sk-toggleable__label sk-toggleable__label-arrow\">preprocess: ColumnTransformer</label><div class=\"sk-toggleable__content\"><pre>ColumnTransformer(transformers=[(&#x27;cat&#x27;,\n",
       "                                 OrdinalEncoder(handle_unknown=&#x27;use_encoded_value&#x27;,\n",
       "                                                unknown_value=-1),\n",
       "                                 [&#x27;pclass&#x27;, &#x27;sex&#x27;, &#x27;embarked&#x27;, &#x27;random_cat&#x27;]),\n",
       "                                (&#x27;num&#x27;, SimpleImputer(),\n",
       "                                 [&#x27;age&#x27;, &#x27;sibsp&#x27;, &#x27;parch&#x27;, &#x27;fare&#x27;,\n",
       "                                  &#x27;random_num&#x27;])],\n",
       "                  verbose_feature_names_out=False)</pre></div></div></div><div class=\"sk-parallel\"><div class=\"sk-parallel-item\"><div class=\"sk-item\"><div class=\"sk-label-container\"><div class=\"sk-label sk-toggleable\"><input class=\"sk-toggleable__control sk-hidden--visually\" id=\"56963d72-9cfc-440b-b97e-ef86ec755ab5\" type=\"checkbox\" ><label for=\"56963d72-9cfc-440b-b97e-ef86ec755ab5\" class=\"sk-toggleable__label sk-toggleable__label-arrow\">cat</label><div class=\"sk-toggleable__content\"><pre>[&#x27;pclass&#x27;, &#x27;sex&#x27;, &#x27;embarked&#x27;, &#x27;random_cat&#x27;]</pre></div></div></div><div class=\"sk-serial\"><div class=\"sk-item\"><div class=\"sk-estimator sk-toggleable\"><input class=\"sk-toggleable__control sk-hidden--visually\" id=\"90b1481d-994a-485f-a62b-7f3ab8f0ce68\" type=\"checkbox\" ><label for=\"90b1481d-994a-485f-a62b-7f3ab8f0ce68\" class=\"sk-toggleable__label sk-toggleable__label-arrow\">OrdinalEncoder</label><div class=\"sk-toggleable__content\"><pre>OrdinalEncoder(handle_unknown=&#x27;use_encoded_value&#x27;, unknown_value=-1)</pre></div></div></div></div></div></div><div class=\"sk-parallel-item\"><div class=\"sk-item\"><div class=\"sk-label-container\"><div class=\"sk-label sk-toggleable\"><input class=\"sk-toggleable__control sk-hidden--visually\" id=\"8153af98-541a-4bd6-8d21-82a97f241a6c\" type=\"checkbox\" ><label for=\"8153af98-541a-4bd6-8d21-82a97f241a6c\" class=\"sk-toggleable__label sk-toggleable__label-arrow\">num</label><div class=\"sk-toggleable__content\"><pre>[&#x27;age&#x27;, &#x27;sibsp&#x27;, &#x27;parch&#x27;, &#x27;fare&#x27;, &#x27;random_num&#x27;]</pre></div></div></div><div class=\"sk-serial\"><div class=\"sk-item\"><div class=\"sk-estimator sk-toggleable\"><input class=\"sk-toggleable__control sk-hidden--visually\" id=\"fb0af3b7-57e4-403d-b3c7-3b8479b32430\" type=\"checkbox\" ><label for=\"fb0af3b7-57e4-403d-b3c7-3b8479b32430\" class=\"sk-toggleable__label sk-toggleable__label-arrow\">SimpleImputer</label><div class=\"sk-toggleable__content\"><pre>SimpleImputer()</pre></div></div></div></div></div></div></div></div><div class=\"sk-item\"><div class=\"sk-estimator sk-toggleable\"><input class=\"sk-toggleable__control sk-hidden--visually\" id=\"f8fcd827-457a-4436-a732-95e74fc69037\" type=\"checkbox\" ><label for=\"f8fcd827-457a-4436-a732-95e74fc69037\" class=\"sk-toggleable__label sk-toggleable__label-arrow\">RandomForestClassifier</label><div class=\"sk-toggleable__content\"><pre>RandomForestClassifier(random_state=42)</pre></div></div></div></div></div></div></div>"
      ],
      "text/plain": [
       "Pipeline(steps=[('preprocess',\n",
       "                 ColumnTransformer(transformers=[('cat',\n",
       "                                                  OrdinalEncoder(handle_unknown='use_encoded_value',\n",
       "                                                                 unknown_value=-1),\n",
       "                                                  ['pclass', 'sex', 'embarked',\n",
       "                                                   'random_cat']),\n",
       "                                                 ('num', SimpleImputer(),\n",
       "                                                  ['age', 'sibsp', 'parch',\n",
       "                                                   'fare', 'random_num'])],\n",
       "                                   verbose_feature_names_out=False)),\n",
       "                ('classifier', RandomForestClassifier(random_state=42))])"
      ]
     },
     "execution_count": 3,
     "metadata": {},
     "output_type": "execute_result"
    }
   ],
   "source": [
    "from sklearn.ensemble import RandomForestClassifier\n",
    "from sklearn.impute import SimpleImputer\n",
    "from sklearn.compose import ColumnTransformer\n",
    "from sklearn.pipeline import Pipeline\n",
    "from sklearn.preprocessing import OrdinalEncoder\n",
    "\n",
    "categorical_encoder = OrdinalEncoder(\n",
    "    handle_unknown=\"use_encoded_value\", unknown_value=-1,\n",
    ")\n",
    "numerical_pipe = SimpleImputer(strategy=\"mean\")\n",
    "\n",
    "preprocessing = ColumnTransformer(\n",
    "    [\n",
    "        (\"cat\", categorical_encoder, categorical_columns),\n",
    "        (\"num\", numerical_pipe, numerical_columns),\n",
    "    ],\n",
    "    verbose_feature_names_out=False,\n",
    ")\n",
    "\n",
    "rf = Pipeline(\n",
    "    [\n",
    "        (\"preprocess\", preprocessing),\n",
    "        (\"classifier\", RandomForestClassifier(random_state=42)),\n",
    "    ]\n",
    ")\n",
    "rf.fit(X_train, y_train)"
   ]
  },
  {
   "cell_type": "markdown",
   "id": "6a1dec6a",
   "metadata": {},
   "source": [
    "## Accuracy of the Model\n",
    "\n",
    "Prior to inspecting the feature importances, it is important to check that\n",
    "the model predictive performance is high enough. Indeed there would be little\n",
    "interest of inspecting the important features of a non-predictive model.\n",
    "\n",
    "Here one can observe that the train accuracy is very high (the forest model\n",
    "has enough capacity to completely memorize the training set) but it can still\n",
    "generalize well enough to the test set thanks to the built-in bagging of\n",
    "random forests.\n",
    "\n",
    "It might be possible to trade some accuracy on the training set for a\n",
    "slightly better accuracy on the test set by limiting the capacity of the\n",
    "trees (for instance by setting ``min_samples_leaf=5`` or\n",
    "``min_samples_leaf=10``) so as to limit overfitting while not introducing too\n",
    "much underfitting.\n",
    "\n",
    "However let's keep our high capacity random forest model for now so as to\n",
    "illustrate some pitfalls with feature importance on variables with many\n",
    "unique values."
   ]
  },
  {
   "cell_type": "code",
   "execution_count": 4,
   "id": "8cd0d757",
   "metadata": {
    "lines_to_next_cell": 2
   },
   "outputs": [
    {
     "name": "stdout",
     "output_type": "stream",
     "text": [
      "RF train accuracy: 1.000\n",
      "RF test accuracy: 0.814\n"
     ]
    }
   ],
   "source": [
    "print(f\"RF train accuracy: {rf.score(X_train, y_train):.3f}\")\n",
    "print(f\"RF test accuracy: {rf.score(X_test, y_test):.3f}\")"
   ]
  },
  {
   "cell_type": "markdown",
   "id": "0ee661cb",
   "metadata": {},
   "source": [
    "## Tree's Feature Importance from Mean Decrease in Impurity (MDI)\n",
    "\n",
    "The impurity-based feature importance ranks the numerical features to be the\n",
    "most important features. As a result, the non-predictive ``random_num``\n",
    "variable is ranked as one of the most important features!\n",
    "\n",
    "This problem stems from two limitations of impurity-based feature\n",
    "importances:\n",
    "\n",
    "- impurity-based importances are biased towards high cardinality features;\n",
    "- impurity-based importances are computed on training set statistics and\n",
    "  therefore do not reflect the ability of feature to be useful to make\n",
    "  predictions that generalize to the test set (when the model has enough\n",
    "  capacity).\n",
    "\n",
    "The latter point explains why both the `random_num` and `random_cat` features\n",
    "have a non-null importance. The former point explains why the `random_num`\n",
    "has a really large importance in comparison with `random_cat` while we would\n",
    "expect both random features to have a null importance."
   ]
  },
  {
   "cell_type": "code",
   "execution_count": 5,
   "id": "9e72510d",
   "metadata": {},
   "outputs": [],
   "source": [
    "import pandas as pd\n",
    "\n",
    "feature_names = categorical_columns + numerical_columns\n",
    "\n",
    "mdi_importance = pd.Series(\n",
    "    rf[-1].feature_importances_, index=feature_names\n",
    ").sort_values(ascending=True)"
   ]
  },
  {
   "cell_type": "code",
   "execution_count": 6,
   "id": "94c3cc13",
   "metadata": {},
   "outputs": [
    {
     "data": {
      "image/png": "[encoded data removed]",
      "text/plain": [
       "<Figure size 432x288 with 1 Axes>"
      ]
     },
     "metadata": {
      "needs_background": "light"
     },
     "output_type": "display_data"
    }
   ],
   "source": [
    "mdi_importance.plot.barh()\n",
    "plt.title(\"Random Forest Feature Importances (MDI)\")\n",
    "plt.xlabel(\"Mean decrease in impurity\")\n",
    "plt.tight_layout()"
   ]
  },
  {
   "cell_type": "markdown",
   "id": "f8be07e7",
   "metadata": {},
   "source": [
    "As an alternative, the permutation importances of ``rf`` are computed on a\n",
    "held out test set. This shows that the low cardinality categorical feature,\n",
    "`sex` and `pclass` are the most important feature. Indeed, permuting the\n",
    "values of these features will lead to most decrease in accuracy score of the\n",
    "model on the test set.\n",
    "\n",
    "Also note that both random features have very low importances (close to 0) as\n",
    "expected."
   ]
  },
  {
   "cell_type": "code",
   "execution_count": 7,
   "id": "cd13082f",
   "metadata": {},
   "outputs": [
    {
     "data": {
      "image/png": "[encoded data removed]",
      "text/plain": [
       "<Figure size 432x288 with 1 Axes>"
      ]
     },
     "metadata": {
      "needs_background": "light"
     },
     "output_type": "display_data"
    }
   ],
   "source": [
    "from sklearn.inspection import permutation_importance\n",
    "\n",
    "result = permutation_importance(\n",
    "    rf, X_test, y_test, n_repeats=10, random_state=42, n_jobs=2\n",
    ")\n",
    "\n",
    "sorted_importances_idx = result.importances_mean.argsort()\n",
    "importances = pd.DataFrame(\n",
    "    result.importances[sorted_importances_idx].T,\n",
    "    columns=X.columns[sorted_importances_idx],\n",
    ")\n",
    "importances.plot.box(vert=False, whis=10)\n",
    "plt.title(\"Permutation Importances (test set)\")\n",
    "plt.axvline(x=0, color=\"k\", linestyle=\"--\")\n",
    "plt.xlabel(\"Decrease in accuracy score\")\n",
    "plt.tight_layout()"
   ]
  },
  {
   "cell_type": "markdown",
   "id": "3eeff625",
   "metadata": {},
   "source": [
    "It is also possible to compute the permutation importances on the training\n",
    "set. This reveals that `random_num` and `random_cat` get a significantly\n",
    "higher importance ranking than when computed on the test set. The difference\n",
    "between those two plots is a confirmation that the RF model has enough\n",
    "capacity to use that random numerical and categorical features to overfit."
   ]
  },
  {
   "cell_type": "code",
   "execution_count": 8,
   "id": "8423e32b",
   "metadata": {},
   "outputs": [
    {
     "data": {
      "image/png": "[encoded data removed]",
      "text/plain": [
       "<Figure size 432x288 with 1 Axes>"
      ]
     },
     "metadata": {
      "needs_background": "light"
     },
     "output_type": "display_data"
    }
   ],
   "source": [
    "result = permutation_importance(\n",
    "    rf, X_train, y_train, n_repeats=10, random_state=42, n_jobs=2\n",
    ")\n",
    "\n",
    "sorted_importances_idx = result.importances_mean.argsort()\n",
    "importances = pd.DataFrame(\n",
    "    result.importances[sorted_importances_idx].T,\n",
    "    columns=X.columns[sorted_importances_idx],\n",
    ")\n",
    "importances.plot.box(vert=False, whis=10)\n",
    "plt.title(\"Permutation Importances (train set)\")\n",
    "plt.axvline(x=0, color=\"k\", linestyle=\"--\")\n",
    "plt.xlabel(\"Decrease in accuracy score\")\n",
    "plt.tight_layout()"
   ]
  },
  {
   "cell_type": "markdown",
   "id": "8d8876d7",
   "metadata": {},
   "source": [
    "We can further retry the experiment by limiting the capacity of the trees\n",
    "to overfit by setting `min_samples_leaf` at 20 data points."
   ]
  },
  {
   "cell_type": "code",
   "execution_count": 9,
   "id": "1176548a",
   "metadata": {},
   "outputs": [
    {
     "data": {
      "text/html": [
       "<style>#sk-73e71fad-8900-465e-988c-5dc7ad2dc7b5 {color: black;background-color: white;}#sk-73e71fad-8900-465e-988c-5dc7ad2dc7b5 pre{padding: 0;}#sk-73e71fad-8900-465e-988c-5dc7ad2dc7b5 div.sk-toggleable {background-color: white;}#sk-73e71fad-8900-465e-988c-5dc7ad2dc7b5 label.sk-toggleable__label {cursor: pointer;display: block;width: 100%;margin-bottom: 0;padding: 0.3em;box-sizing: border-box;text-align: center;}#sk-73e71fad-8900-465e-988c-5dc7ad2dc7b5 label.sk-toggleable__label-arrow:before {content: \"▸\";float: left;margin-right: 0.25em;color: #696969;}#sk-73e71fad-8900-465e-988c-5dc7ad2dc7b5 label.sk-toggleable__label-arrow:hover:before {color: black;}#sk-73e71fad-8900-465e-988c-5dc7ad2dc7b5 div.sk-estimator:hover label.sk-toggleable__label-arrow:before {color: black;}#sk-73e71fad-8900-465e-988c-5dc7ad2dc7b5 div.sk-toggleable__content {max-height: 0;max-width: 0;overflow: hidden;text-align: left;background-color: #f0f8ff;}#sk-73e71fad-8900-465e-988c-5dc7ad2dc7b5 div.sk-toggleable__content pre {margin: 0.2em;color: black;border-radius: 0.25em;background-color: #f0f8ff;}#sk-73e71fad-8900-465e-988c-5dc7ad2dc7b5 input.sk-toggleable__control:checked~div.sk-toggleable__content {max-height: 200px;max-width: 100%;overflow: auto;}#sk-73e71fad-8900-465e-988c-5dc7ad2dc7b5 input.sk-toggleable__control:checked~label.sk-toggleable__label-arrow:before {content: \"▾\";}#sk-73e71fad-8900-465e-988c-5dc7ad2dc7b5 div.sk-estimator input.sk-toggleable__control:checked~label.sk-toggleable__label {background-color: #d4ebff;}#sk-73e71fad-8900-465e-988c-5dc7ad2dc7b5 div.sk-label input.sk-toggleable__control:checked~label.sk-toggleable__label {background-color: #d4ebff;}#sk-73e71fad-8900-465e-988c-5dc7ad2dc7b5 input.sk-hidden--visually {border: 0;clip: rect(1px 1px 1px 1px);clip: rect(1px, 1px, 1px, 1px);height: 1px;margin: -1px;overflow: hidden;padding: 0;position: absolute;width: 1px;}#sk-73e71fad-8900-465e-988c-5dc7ad2dc7b5 div.sk-estimator {font-family: monospace;background-color: #f0f8ff;border: 1px dotted black;border-radius: 0.25em;box-sizing: border-box;margin-bottom: 0.5em;}#sk-73e71fad-8900-465e-988c-5dc7ad2dc7b5 div.sk-estimator:hover {background-color: #d4ebff;}#sk-73e71fad-8900-465e-988c-5dc7ad2dc7b5 div.sk-parallel-item::after {content: \"\";width: 100%;border-bottom: 1px solid gray;flex-grow: 1;}#sk-73e71fad-8900-465e-988c-5dc7ad2dc7b5 div.sk-label:hover label.sk-toggleable__label {background-color: #d4ebff;}#sk-73e71fad-8900-465e-988c-5dc7ad2dc7b5 div.sk-serial::before {content: \"\";position: absolute;border-left: 1px solid gray;box-sizing: border-box;top: 2em;bottom: 0;left: 50%;}#sk-73e71fad-8900-465e-988c-5dc7ad2dc7b5 div.sk-serial {display: flex;flex-direction: column;align-items: center;background-color: white;padding-right: 0.2em;padding-left: 0.2em;}#sk-73e71fad-8900-465e-988c-5dc7ad2dc7b5 div.sk-item {z-index: 1;}#sk-73e71fad-8900-465e-988c-5dc7ad2dc7b5 div.sk-parallel {display: flex;align-items: stretch;justify-content: center;background-color: white;}#sk-73e71fad-8900-465e-988c-5dc7ad2dc7b5 div.sk-parallel::before {content: \"\";position: absolute;border-left: 1px solid gray;box-sizing: border-box;top: 2em;bottom: 0;left: 50%;}#sk-73e71fad-8900-465e-988c-5dc7ad2dc7b5 div.sk-parallel-item {display: flex;flex-direction: column;position: relative;background-color: white;}#sk-73e71fad-8900-465e-988c-5dc7ad2dc7b5 div.sk-parallel-item:first-child::after {align-self: flex-end;width: 50%;}#sk-73e71fad-8900-465e-988c-5dc7ad2dc7b5 div.sk-parallel-item:last-child::after {align-self: flex-start;width: 50%;}#sk-73e71fad-8900-465e-988c-5dc7ad2dc7b5 div.sk-parallel-item:only-child::after {width: 0;}#sk-73e71fad-8900-465e-988c-5dc7ad2dc7b5 div.sk-dashed-wrapped {border: 1px dashed gray;margin: 0 0.4em 0.5em 0.4em;box-sizing: border-box;padding-bottom: 0.4em;background-color: white;position: relative;}#sk-73e71fad-8900-465e-988c-5dc7ad2dc7b5 div.sk-label label {font-family: monospace;font-weight: bold;background-color: white;display: inline-block;line-height: 1.2em;}#sk-73e71fad-8900-465e-988c-5dc7ad2dc7b5 div.sk-label-container {position: relative;z-index: 2;text-align: center;}#sk-73e71fad-8900-465e-988c-5dc7ad2dc7b5 div.sk-container {/* jupyter's `normalize.less` sets `[hidden] { display: none; }` but bootstrap.min.css set `[hidden] { display: none !important; }` so we also need the `!important` here to be able to override the default hidden behavior on the sphinx rendered scikit-learn.org. See: https://github.com/scikit-learn/scikit-learn/issues/21755 */display: inline-block !important;position: relative;}#sk-73e71fad-8900-465e-988c-5dc7ad2dc7b5 div.sk-text-repr-fallback {display: none;}</style><div id=\"sk-73e71fad-8900-465e-988c-5dc7ad2dc7b5\" class=\"sk-top-container\"><div class=\"sk-text-repr-fallback\"><pre>Pipeline(steps=[(&#x27;preprocess&#x27;,\n",
       "                 ColumnTransformer(transformers=[(&#x27;cat&#x27;,\n",
       "                                                  OrdinalEncoder(handle_unknown=&#x27;use_encoded_value&#x27;,\n",
       "                                                                 unknown_value=-1),\n",
       "                                                  [&#x27;pclass&#x27;, &#x27;sex&#x27;, &#x27;embarked&#x27;,\n",
       "                                                   &#x27;random_cat&#x27;]),\n",
       "                                                 (&#x27;num&#x27;, SimpleImputer(),\n",
       "                                                  [&#x27;age&#x27;, &#x27;sibsp&#x27;, &#x27;parch&#x27;,\n",
       "                                                   &#x27;fare&#x27;, &#x27;random_num&#x27;])],\n",
       "                                   verbose_feature_names_out=False)),\n",
       "                (&#x27;classifier&#x27;,\n",
       "                 RandomForestClassifier(min_samples_leaf=20, random_state=42))])</pre><b>In a Jupyter environment, please rerun this cell to show the HTML representation or trust the notebook. <br />On GitHub, the HTML representation is unable to render, please try loading this page with nbviewer.org.</b></div><div class=\"sk-container\" hidden><div class=\"sk-item sk-dashed-wrapped\"><div class=\"sk-label-container\"><div class=\"sk-label sk-toggleable\"><input class=\"sk-toggleable__control sk-hidden--visually\" id=\"6335ecda-e7ad-4d18-9095-82dc44ffd202\" type=\"checkbox\" ><label for=\"6335ecda-e7ad-4d18-9095-82dc44ffd202\" class=\"sk-toggleable__label sk-toggleable__label-arrow\">Pipeline</label><div class=\"sk-toggleable__content\"><pre>Pipeline(steps=[(&#x27;preprocess&#x27;,\n",
       "                 ColumnTransformer(transformers=[(&#x27;cat&#x27;,\n",
       "                                                  OrdinalEncoder(handle_unknown=&#x27;use_encoded_value&#x27;,\n",
       "                                                                 unknown_value=-1),\n",
       "                                                  [&#x27;pclass&#x27;, &#x27;sex&#x27;, &#x27;embarked&#x27;,\n",
       "                                                   &#x27;random_cat&#x27;]),\n",
       "                                                 (&#x27;num&#x27;, SimpleImputer(),\n",
       "                                                  [&#x27;age&#x27;, &#x27;sibsp&#x27;, &#x27;parch&#x27;,\n",
       "                                                   &#x27;fare&#x27;, &#x27;random_num&#x27;])],\n",
       "                                   verbose_feature_names_out=False)),\n",
       "                (&#x27;classifier&#x27;,\n",
       "                 RandomForestClassifier(min_samples_leaf=20, random_state=42))])</pre></div></div></div><div class=\"sk-serial\"><div class=\"sk-item sk-dashed-wrapped\"><div class=\"sk-label-container\"><div class=\"sk-label sk-toggleable\"><input class=\"sk-toggleable__control sk-hidden--visually\" id=\"1a91770a-fa49-4c49-aa79-7d1755cd5ba3\" type=\"checkbox\" ><label for=\"1a91770a-fa49-4c49-aa79-7d1755cd5ba3\" class=\"sk-toggleable__label sk-toggleable__label-arrow\">preprocess: ColumnTransformer</label><div class=\"sk-toggleable__content\"><pre>ColumnTransformer(transformers=[(&#x27;cat&#x27;,\n",
       "                                 OrdinalEncoder(handle_unknown=&#x27;use_encoded_value&#x27;,\n",
       "                                                unknown_value=-1),\n",
       "                                 [&#x27;pclass&#x27;, &#x27;sex&#x27;, &#x27;embarked&#x27;, &#x27;random_cat&#x27;]),\n",
       "                                (&#x27;num&#x27;, SimpleImputer(),\n",
       "                                 [&#x27;age&#x27;, &#x27;sibsp&#x27;, &#x27;parch&#x27;, &#x27;fare&#x27;,\n",
       "                                  &#x27;random_num&#x27;])],\n",
       "                  verbose_feature_names_out=False)</pre></div></div></div><div class=\"sk-parallel\"><div class=\"sk-parallel-item\"><div class=\"sk-item\"><div class=\"sk-label-container\"><div class=\"sk-label sk-toggleable\"><input class=\"sk-toggleable__control sk-hidden--visually\" id=\"81c11f56-4c08-468e-a436-b5f0585937c7\" type=\"checkbox\" ><label for=\"81c11f56-4c08-468e-a436-b5f0585937c7\" class=\"sk-toggleable__label sk-toggleable__label-arrow\">cat</label><div class=\"sk-toggleable__content\"><pre>[&#x27;pclass&#x27;, &#x27;sex&#x27;, &#x27;embarked&#x27;, &#x27;random_cat&#x27;]</pre></div></div></div><div class=\"sk-serial\"><div class=\"sk-item\"><div class=\"sk-estimator sk-toggleable\"><input class=\"sk-toggleable__control sk-hidden--visually\" id=\"18485e5f-3452-44db-804f-232766d8394e\" type=\"checkbox\" ><label for=\"18485e5f-3452-44db-804f-232766d8394e\" class=\"sk-toggleable__label sk-toggleable__label-arrow\">OrdinalEncoder</label><div class=\"sk-toggleable__content\"><pre>OrdinalEncoder(handle_unknown=&#x27;use_encoded_value&#x27;, unknown_value=-1)</pre></div></div></div></div></div></div><div class=\"sk-parallel-item\"><div class=\"sk-item\"><div class=\"sk-label-container\"><div class=\"sk-label sk-toggleable\"><input class=\"sk-toggleable__control sk-hidden--visually\" id=\"a670567b-6b39-4fb0-bb52-1aeae8d947e7\" type=\"checkbox\" ><label for=\"a670567b-6b39-4fb0-bb52-1aeae8d947e7\" class=\"sk-toggleable__label sk-toggleable__label-arrow\">num</label><div class=\"sk-toggleable__content\"><pre>[&#x27;age&#x27;, &#x27;sibsp&#x27;, &#x27;parch&#x27;, &#x27;fare&#x27;, &#x27;random_num&#x27;]</pre></div></div></div><div class=\"sk-serial\"><div class=\"sk-item\"><div class=\"sk-estimator sk-toggleable\"><input class=\"sk-toggleable__control sk-hidden--visually\" id=\"46e59336-0da3-45ea-9806-1d3bec158b69\" type=\"checkbox\" ><label for=\"46e59336-0da3-45ea-9806-1d3bec158b69\" class=\"sk-toggleable__label sk-toggleable__label-arrow\">SimpleImputer</label><div class=\"sk-toggleable__content\"><pre>SimpleImputer()</pre></div></div></div></div></div></div></div></div><div class=\"sk-item\"><div class=\"sk-estimator sk-toggleable\"><input class=\"sk-toggleable__control sk-hidden--visually\" id=\"99e6baac-c947-478d-978e-2e3061d3e8c0\" type=\"checkbox\" ><label for=\"99e6baac-c947-478d-978e-2e3061d3e8c0\" class=\"sk-toggleable__label sk-toggleable__label-arrow\">RandomForestClassifier</label><div class=\"sk-toggleable__content\"><pre>RandomForestClassifier(min_samples_leaf=20, random_state=42)</pre></div></div></div></div></div></div></div>"
      ],
      "text/plain": [
       "Pipeline(steps=[('preprocess',\n",
       "                 ColumnTransformer(transformers=[('cat',\n",
       "                                                  OrdinalEncoder(handle_unknown='use_encoded_value',\n",
       "                                                                 unknown_value=-1),\n",
       "                                                  ['pclass', 'sex', 'embarked',\n",
       "                                                   'random_cat']),\n",
       "                                                 ('num', SimpleImputer(),\n",
       "                                                  ['age', 'sibsp', 'parch',\n",
       "                                                   'fare', 'random_num'])],\n",
       "                                   verbose_feature_names_out=False)),\n",
       "                ('classifier',\n",
       "                 RandomForestClassifier(min_samples_leaf=20, random_state=42))])"
      ]
     },
     "execution_count": 9,
     "metadata": {},
     "output_type": "execute_result"
    }
   ],
   "source": [
    "rf.set_params(classifier__min_samples_leaf=20).fit(X_train, y_train)"
   ]
  },
  {
   "cell_type": "markdown",
   "id": "aa72a8be",
   "metadata": {},
   "source": [
    "Observing the accuracy score on the training and testing set, we observe that\n",
    "the two metrics are very similar now. Therefore, our model is not overfitting\n",
    "anymore. We can then check the permutation importances with this new model."
   ]
  },
  {
   "cell_type": "code",
   "execution_count": 10,
   "id": "7cf5a102",
   "metadata": {},
   "outputs": [
    {
     "name": "stdout",
     "output_type": "stream",
     "text": [
      "RF train accuracy: 0.810\n",
      "RF test accuracy: 0.832\n"
     ]
    }
   ],
   "source": [
    "print(f\"RF train accuracy: {rf.score(X_train, y_train):.3f}\")\n",
    "print(f\"RF test accuracy: {rf.score(X_test, y_test):.3f}\")"
   ]
  },
  {
   "cell_type": "code",
   "execution_count": 11,
   "id": "b60ae27b",
   "metadata": {},
   "outputs": [],
   "source": [
    "importances = {}\n",
    "for name, data, target in zip([\"train\", \"test\"], [X_train, X_test], [y_train, y_test]):\n",
    "    result = permutation_importance(\n",
    "        rf, data, target, n_repeats=10, random_state=42, n_jobs=2\n",
    "    )\n",
    "    if name == \"train\":\n",
    "        sorted_importances_idx = result.importances_mean.argsort()\n",
    "\n",
    "    importances[name] = pd.DataFrame(\n",
    "        result.importances[sorted_importances_idx].T,\n",
    "        columns=data.columns[sorted_importances_idx],\n",
    "    )\n",
    "importances = pd.concat(importances, names=[\"set\", \"permutation\"])"
   ]
  },
  {
   "cell_type": "code",
   "execution_count": 12,
   "id": "ff6af375",
   "metadata": {},
   "outputs": [
    {
     "data": {
      "image/png": "[encoded data removed]",
      "text/plain": [
       "<Figure size 432x288 with 1 Axes>"
      ]
     },
     "metadata": {
      "needs_background": "light"
     },
     "output_type": "display_data"
    },
    {
     "data": {
      "image/png": "[encoded data removed]",
      "text/plain": [
       "<Figure size 432x288 with 1 Axes>"
      ]
     },
     "metadata": {
      "needs_background": "light"
     },
     "output_type": "display_data"
    }
   ],
   "source": [
    "for name, data in importances.reset_index(level=\"set\").groupby(\"set\"):\n",
    "    ax = data.plot.box(vert=False, whis=10)\n",
    "    ax.set_title(f\"Permutation Importances ({name} set)\")\n",
    "    ax.set_xlabel(\"Decrease in accuracy score\")\n",
    "    ax.axvline(x=0, color=\"k\", linestyle=\"--\")\n",
    "    plt.tight_layout()"
   ]
  },
  {
   "cell_type": "markdown",
   "id": "74dd280a",
   "metadata": {},
   "source": [
    "Now, we can observe that on both sets, the `random_num` and `random_cat`\n",
    "features have a lower importance compared to the overfitting random forest.\n",
    "However, the conclusions regarding the importance of the other features are\n",
    "still valid."
   ]
  }
 ],
 "metadata": {
  "jupytext": {
   "cell_metadata_filter": "-all",
   "main_language": "python",
   "notebook_metadata_filter": "-all"
  },
  "kernelspec": {
   "display_name": "Python 3 (ipykernel)",
   "language": "python",
   "name": "python3"
  },
  "language_info": {
   "codemirror_mode": {
    "name": "ipython",
    "version": 3
   },
   "file_extension": ".py",
   "mimetype": "text/x-python",
   "name": "python",
   "nbconvert_exporter": "python",
   "pygments_lexer": "ipython3",
   "version": "3.8.12"
  }
 },
 "nbformat": 4,
 "nbformat_minor": 5
}

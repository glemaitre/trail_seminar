{
 "cells": [
  {
   "cell_type": "markdown",
   "id": "0b762c67",
   "metadata": {},
   "source": [
    "# Partial Dependence and Individual Conditional Expectation Plots\n",
    "\n",
    "Partial dependence plots show the dependence between the target function [2]_\n",
    "and a set of features of interest, marginalizing over the values of all other\n",
    "features (the complement features). Due to the limits of human perception, the\n",
    "size of the set of features of interest must be small (usually, one or two)\n",
    "thus they are usually chosen among the most important features.\n",
    "\n",
    "Similarly, an individual conditional expectation (ICE) plot [3]_\n",
    "shows the dependence between the target function and a feature of interest.\n",
    "However, unlike partial dependence plots, which show the average effect of the\n",
    "features of interest, ICE plots visualize the dependence of the prediction on a\n",
    "feature for each sample separately, with one line per sample.\n",
    "Only one feature of interest is supported for ICE plots.\n",
    "\n",
    "This example shows how to obtain partial dependence and ICE plots from a\n",
    "`MLPRegressor` and a `HistGradientBoostingRegressor` trained on the\n",
    "California housing dataset. The example is taken from [1]_.\n",
    "\n",
    ".. [1] T. Hastie, R. Tibshirani and J. Friedman, \"Elements of Statistical\n",
    "       Learning Ed. 2\", Springer, 2009.\n",
    "\n",
    ".. [2] For classification you can think of it as the regression score before\n",
    "       the link function.\n",
    "\n",
    ".. [3] :arxiv:`Goldstein, A., Kapelner, A., Bleich, J., and Pitkin, E. (2015).\n",
    "       \"Peeking Inside the Black Box: Visualizing Statistical Learning With Plots of\n",
    "       Individual Conditional Expectation\". Journal of Computational and\n",
    "       Graphical Statistics, 24(1): 44-65 <1309.6392>`"
   ]
  },
  {
   "cell_type": "markdown",
   "id": "7538017f",
   "metadata": {},
   "source": [
    "## California Housing data preprocessing\n",
    "\n",
    "Center target to avoid gradient boosting init bias: gradient boosting\n",
    "with the 'recursion' method does not account for the initial estimator\n",
    "(here the average target, by default)."
   ]
  },
  {
   "cell_type": "code",
   "execution_count": null,
   "id": "9409a439",
   "metadata": {},
   "outputs": [],
   "source": [
    "import pandas as pd\n",
    "from sklearn.datasets import fetch_california_housing\n",
    "from sklearn.model_selection import train_test_split\n",
    "\n",
    "cal_housing = fetch_california_housing()\n",
    "X = pd.DataFrame(cal_housing.data, columns=cal_housing.feature_names)\n",
    "y = cal_housing.target\n",
    "\n",
    "y -= y.mean()\n",
    "\n",
    "X_train, X_test, y_train, y_test = train_test_split(X, y, test_size=0.1, random_state=0)"
   ]
  },
  {
   "cell_type": "markdown",
   "id": "43e058c9",
   "metadata": {},
   "source": [
    "## 1-way partial dependence with different models\n",
    "\n",
    "In this section, we will compute 1-way partial dependence with two different\n",
    "machine-learning models: (i) a multi-layer perceptron and (ii) a\n",
    "gradient-boosting. With these two models, we illustrate how to compute and\n",
    "interpret both partial dependence plot (PDP) and individual conditional\n",
    "expectation (ICE).\n",
    "\n",
    "### Multi-layer perceptron\n",
    "\n",
    "Let's fit a `MLPRegressor` and compute single-variable partial dependence\n",
    "plots."
   ]
  },
  {
   "cell_type": "code",
   "execution_count": null,
   "id": "ca7df433",
   "metadata": {},
   "outputs": [],
   "source": [
    "from time import time\n",
    "from sklearn.pipeline import make_pipeline\n",
    "from sklearn.preprocessing import QuantileTransformer\n",
    "from sklearn.neural_network import MLPRegressor\n",
    "\n",
    "print(\"Training MLPRegressor...\")\n",
    "tic = time()\n",
    "est = make_pipeline(\n",
    "    QuantileTransformer(),\n",
    "    MLPRegressor(\n",
    "        hidden_layer_sizes=(30, 15),\n",
    "        learning_rate_init=0.01,\n",
    "        early_stopping=True,\n",
    "        random_state=0,\n",
    "    ),\n",
    ")\n",
    "est.fit(X_train, y_train)\n",
    "print(f\"done in {time() - tic:.3f}s\")\n",
    "print(f\"Test R2 score: {est.score(X_test, y_test):.2f}\")"
   ]
  },
  {
   "cell_type": "markdown",
   "id": "ed15c296",
   "metadata": {},
   "source": [
    "We configured a pipeline to scale the numerical input features and tuned the\n",
    "neural network size and learning rate to get a reasonable compromise between\n",
    "training time and predictive performance on a test set.\n",
    "\n",
    "Importantly, this tabular dataset has very different dynamic ranges for its\n",
    "features. Neural networks tend to be very sensitive to features with varying\n",
    "scales and forgetting to preprocess the numeric feature would lead to a very\n",
    "poor model.\n",
    "\n",
    "It would be possible to get even higher predictive performance with a larger\n",
    "neural network but the training would also be significantly more expensive.\n",
    "\n",
    "Note that it is important to check that the model is accurate enough on a\n",
    "test set before plotting the partial dependence since there would be little\n",
    "use in explaining the impact of a given feature on the prediction function of\n",
    "a poor model.\n",
    "\n",
    "We will plot the partial dependence, both individual (ICE) and averaged one\n",
    "(PDP). We limit to only 50 ICE curves to not overcrowd the plot."
   ]
  },
  {
   "cell_type": "code",
   "execution_count": null,
   "id": "1bed92e5",
   "metadata": {},
   "outputs": [],
   "source": [
    "from sklearn.inspection import PartialDependenceDisplay\n",
    "\n",
    "common_params = {\n",
    "    \"subsample\": 50,\n",
    "    \"n_jobs\": 2,\n",
    "    \"grid_resolution\": 20,\n",
    "    \"random_state\": 0,\n",
    "}\n",
    "\n",
    "print(\"Computing partial dependence plots...\")\n",
    "tic = time()\n",
    "display = PartialDependenceDisplay.from_estimator(\n",
    "    est,\n",
    "    X_train,\n",
    "    features=[\"MedInc\", \"AveOccup\", \"HouseAge\", \"AveRooms\"],\n",
    "    kind=\"both\",\n",
    "    **common_params,\n",
    ")\n",
    "print(f\"done in {time() - tic:.3f}s\")\n",
    "display.figure_.suptitle(\n",
    "    \"Partial dependence of house value on non-location features\\n\"\n",
    "    \"for the California housing dataset, with MLPRegressor\"\n",
    ")\n",
    "display.figure_.subplots_adjust(hspace=0.3)"
   ]
  },
  {
   "cell_type": "markdown",
   "id": "211f3e06",
   "metadata": {},
   "source": [
    "### Gradient boosting\n",
    "\n",
    "Let's now fit a `HistGradientBoostingRegressor` and compute the partial\n",
    "dependence on the same features."
   ]
  },
  {
   "cell_type": "code",
   "execution_count": null,
   "id": "5f79edad",
   "metadata": {},
   "outputs": [],
   "source": [
    "from sklearn.ensemble import HistGradientBoostingRegressor\n",
    "\n",
    "print(\"Training HistGradientBoostingRegressor...\")\n",
    "tic = time()\n",
    "est = HistGradientBoostingRegressor(random_state=0)\n",
    "est.fit(X_train, y_train)\n",
    "print(f\"done in {time() - tic:.3f}s\")\n",
    "print(f\"Test R2 score: {est.score(X_test, y_test):.2f}\")"
   ]
  },
  {
   "cell_type": "markdown",
   "id": "40ed38a5",
   "metadata": {},
   "source": [
    "Here, we used the default hyperparameters for the gradient boosting model\n",
    "without any preprocessing as tree-based models are naturally robust to\n",
    "monotonic transformations of numerical features.\n",
    "\n",
    "Note that on this tabular dataset, Gradient Boosting Machines are both\n",
    "significantly faster to train and more accurate than neural networks. It is\n",
    "also significantly cheaper to tune their hyperparameters (the defaults tend\n",
    "to work well while this is not often the case for neural networks).\n",
    "\n",
    "We will plot the partial dependence, both individual (ICE) and averaged one\n",
    "(PDP). We limit to only 50 ICE curves to not overcrowd the plot."
   ]
  },
  {
   "cell_type": "code",
   "execution_count": null,
   "id": "65fe5d93",
   "metadata": {},
   "outputs": [],
   "source": [
    "print(\"Computing partial dependence plots...\")\n",
    "tic = time()\n",
    "display = PartialDependenceDisplay.from_estimator(\n",
    "    est,\n",
    "    X_train,\n",
    "    features=[\"MedInc\", \"AveOccup\", \"HouseAge\", \"AveRooms\"],\n",
    "    kind=\"both\",\n",
    "    **common_params,\n",
    ")\n",
    "print(f\"done in {time() - tic:.3f}s\")\n",
    "display.figure_.suptitle(\n",
    "    \"Partial dependence of house value on non-location features\\n\"\n",
    "    \"for the California housing dataset, with Gradient Boosting\"\n",
    ")\n",
    "display.figure_.subplots_adjust(wspace=0.4, hspace=0.3)"
   ]
  },
  {
   "cell_type": "markdown",
   "id": "82a500b4",
   "metadata": {},
   "source": [
    "### Analysis of the plots\n",
    "\n",
    "We can clearly see on the PDPs (dashed orange line) that the median house price\n",
    "shows a linear relationship with the median income (top left) and that the\n",
    "house price drops when the average occupants per household increases (top\n",
    "middle). The top right plot shows that the house age in a district does not\n",
    "have a strong influence on the (median) house price; so does the average\n",
    "rooms per household.\n",
    "\n",
    "The ICE curves (light blue lines) complement the analysis: we can see that\n",
    "there are some exceptions (which are better highlighted with the option\n",
    "`centered=True`), where the house price remains constant with respect to\n",
    "median income and average occupants variations.\n",
    "On the other hand, while the house age (top right) does not have a strong\n",
    "influence on the median house price on average, there seems to be a number\n",
    "of exceptions where the house price increases when\n",
    "between the ages 15-25. Similar exceptions can be observed for the average\n",
    "number of rooms (bottom left). Therefore, ICE plots show some individual\n",
    "effect which are attenuated by taking the averages.\n",
    "\n",
    "In all plots, the tick marks on the x-axis represent the deciles of the\n",
    "feature values in the training data.\n",
    "\n",
    "We also observe that `MLPRegressor` has much\n",
    "smoother predictions than `HistGradientBoostingRegressor`.\n",
    "\n",
    "However, it is worth noting that we are creating potential meaningless\n",
    "synthetic samples if features are correlated."
   ]
  },
  {
   "cell_type": "markdown",
   "id": "b08a91c4",
   "metadata": {},
   "source": [
    "## 2D interaction plots\n",
    "\n",
    "PDPs with two features of interest enable us to visualize interactions among\n",
    "them. However, ICEs cannot be plotted in an easy manner and thus interpreted.\n",
    "Another consideration is linked to the performance to compute the PDPs. With\n",
    "the tree-based algorithm, when only PDPs are requested, they can be computed\n",
    "on an efficient way using the `'recursion'` method."
   ]
  },
  {
   "cell_type": "code",
   "execution_count": null,
   "id": "5a96dc25",
   "metadata": {},
   "outputs": [],
   "source": [
    "import matplotlib.pyplot as plt\n",
    "\n",
    "print(\"Computing partial dependence plots...\")\n",
    "tic = time()\n",
    "_, ax = plt.subplots(ncols=3, figsize=(9, 4))\n",
    "\n",
    "# Note that we could have called the method `from_estimator` three times and\n",
    "# provide one feature, one kind of plot, and one axis for each call.\n",
    "display = PartialDependenceDisplay.from_estimator(\n",
    "    est,\n",
    "    X_train,\n",
    "    features=[\"AveOccup\", \"HouseAge\", (\"AveOccup\", \"HouseAge\")],\n",
    "    kind=\"average\",\n",
    "    ax=ax,\n",
    "    **common_params,\n",
    ")\n",
    "\n",
    "print(f\"done in {time() - tic:.3f}s\")\n",
    "display.figure_.suptitle(\n",
    "    \"Partial dependence of house value on non-location features\\n\"\n",
    "    \"for the California housing dataset, with Gradient Boosting\"\n",
    ")\n",
    "display.figure_.subplots_adjust(wspace=0.4, hspace=0.3)"
   ]
  },
  {
   "cell_type": "markdown",
   "id": "e8e5ed1c",
   "metadata": {},
   "source": [
    "The two-way partial dependence plot shows the dependence of median house\n",
    "price on joint values of house age and average occupants per household. We\n",
    "can clearly see an interaction between the two features: for an average\n",
    "occupancy greater than two, the house price is nearly independent of the\n",
    "house age, whereas for values less than two there is a strong dependence on\n",
    "age."
   ]
  }
 ],
 "metadata": {
  "jupytext": {
   "cell_metadata_filter": "-all",
   "main_language": "python",
   "notebook_metadata_filter": "-all"
  },
  "kernelspec": {
   "display_name": "Python 3 (ipykernel)",
   "language": "python",
   "name": "python3"
  },
  "language_info": {
   "codemirror_mode": {
    "name": "ipython",
    "version": 3
   },
   "file_extension": ".py",
   "mimetype": "text/x-python",
   "name": "python",
   "nbconvert_exporter": "python",
   "pygments_lexer": "ipython3",
   "version": "3.8.12"
  }
 },
 "nbformat": 4,
 "nbformat_minor": 5
}

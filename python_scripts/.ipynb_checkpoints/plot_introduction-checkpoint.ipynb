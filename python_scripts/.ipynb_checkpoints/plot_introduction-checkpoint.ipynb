{
 "cells": [
  {
   "cell_type": "markdown",
   "id": "4bd3161b",
   "metadata": {},
   "source": [
    "\n",
    "# A couple of words regarding statistical modelling\n",
    "\n",
    "![](../images/les-limites-a-la-croissance.jpg)"
   ]
  },
  {
   "cell_type": "code",
   "execution_count": null,
   "id": "9d48dad7",
   "metadata": {},
   "outputs": [],
   "source": [
    "from pyworld3 import World3\n",
    "\n",
    "world3 = World3(pyear=2022)\n",
    "world3.init_world3_constants()\n",
    "world3.init_world3_variables()\n",
    "world3.set_world3_table_functions()\n",
    "world3.set_world3_delay_functions()\n",
    "world3.run_world3()"
   ]
  },
  {
   "cell_type": "code",
   "execution_count": null,
   "id": "5b7a0517",
   "metadata": {},
   "outputs": [],
   "source": [
    "import matplotlib.pyplot as plt\n",
    "from pyworld3.utils import plot_world_variables\n",
    "\n",
    "plot_world_variables(\n",
    "    world3.time,\n",
    "    [world3.nrfr, world3.iopc, world3.fpc, world3.pop, world3.ppolx],\n",
    "    [\"NRFR\", \"IOPC\", \"FPC\", \"POP\", \"PPOLX\"],\n",
    "    [[0, 1], [0, 1e3], [0, 1e3], [0, 16e9], [0, 32]],\n",
    "    figsize=(7, 5),\n",
    "    title=\"World3 standard run\",\n",
    ")\n",
    "axes = plt.gcf().get_axes()\n",
    "handles = [ax.get_lines()[0] for ax in axes]\n",
    "labels = [\n",
    "    \"Resource\",\n",
    "    \"Industrial output\\n per capita\",\n",
    "    \"Food per capita\",\n",
    "    \"Population\",\n",
    "    \"Pollution\",\n",
    "]\n",
    "_ = plt.legend(handles, labels, loc=\"upper right\")"
   ]
  },
  {
   "cell_type": "code",
   "execution_count": null,
   "id": "1659e26d",
   "metadata": {},
   "outputs": [],
   "source": []
  }
 ],
 "metadata": {
  "jupytext": {
   "cell_metadata_filter": "-all",
   "main_language": "python",
   "notebook_metadata_filter": "-all"
  },
  "kernelspec": {
   "display_name": "Python 3 (ipykernel)",
   "language": "python",
   "name": "python3"
  },
  "language_info": {
   "codemirror_mode": {
    "name": "ipython",
    "version": 3
   },
   "file_extension": ".py",
   "mimetype": "text/x-python",
   "name": "python",
   "nbconvert_exporter": "python",
   "pygments_lexer": "ipython3",
   "version": "3.8.12"
  }
 },
 "nbformat": 4,
 "nbformat_minor": 5
}
